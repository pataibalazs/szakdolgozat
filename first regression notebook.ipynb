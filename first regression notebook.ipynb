{
 "cells": [
  {
   "cell_type": "code",
   "execution_count": 1,
   "id": "74cab6b2",
   "metadata": {},
   "outputs": [
    {
     "name": "stdout",
     "output_type": "stream",
     "text": [
      "Setup Complete\n"
     ]
    }
   ],
   "source": [
    "import pandas as pd\n",
    "pd.plotting.register_matplotlib_converters()\n",
    "import matplotlib.pyplot as plt\n",
    "%matplotlib inline\n",
    "import seaborn as sns\n",
    "import numpy as np\n",
    "import os\n",
    "import warnings\n",
    "warnings.filterwarnings('ignore')\n",
    "print(\"Setup Complete\")\n",
    "from pandas_profiling import ProfileReport\n",
    "from pandas_profiling.utils.cache import cache_file\n",
    "from sklearn.metrics import mean_squared_error\n",
    "\n",
    "\n",
    "def mean_absolute_percentage_error(y_true, y_pred): \n",
    "    y_true, y_pred = np.array(y_true), np.array(y_pred)\n",
    "    return np.mean(np.abs((y_true - y_pred) / y_true)) * 100\n",
    "\n",
    "def classificateWithNumbersThreeTarget(value):\n",
    "    target=0\n",
    "    if(value>=0.0015):\n",
    "        target=1\n",
    "    elif(value<=-0.0015):\n",
    "        target=-1\n",
    "    else:\n",
    "        target=0\n",
    "    return target\n",
    "\n",
    "\n",
    "def kirajzoltatas(yhat,test_y):\n",
    "    yhat = pd.DataFrame(yhat, columns=['Predicted'])\n",
    "    test_y2 = pd.DataFrame(test_y, columns=['Real'])\n",
    "    merge=test_y2.join(yhat)\n",
    "\n",
    "    import seaborn as sns\n",
    "    import matplotlib.pyplot as plt\n",
    "\n",
    "    plt.figure(figsize=(30,20))\n",
    "    sns.lineplot(data=merge[:100], linewidth=3)\n",
    "    plt.show()\n",
    "    \n",
    "\n",
    "def correlation_heatmap(df):\n",
    "    correlations = df.corr()\n",
    "\n",
    "    fig, ax = plt.subplots(figsize=(40,40))\n",
    "    sns.heatmap(correlations, vmax=1.0, center=0, fmt='.2f',\n",
    "                square=True, linewidths=.1, annot=True, cbar_kws={\"shrink\": .7})\n",
    "    sns.set(font_scale=2)\n",
    "    plt.show();\n",
    "\n",
    "def aboveValue(openList,inspectList,df,name):\n",
    "    results=[]\n",
    "    for i in range(len(inspectList)):\n",
    "        if (openList[i]>inspectList[i]):\n",
    "            results.append(1)\n",
    "        else:\n",
    "            results.append(0)\n",
    "    df[name]=results\n",
    "    \n",
    "data1 = pd.read_csv('/home/balazs/Desktop/adathalmazok/btc_2012-2021/btc_split_data_part_06', sep=\",\", header=None)\n",
    "data1.columns = [\"time\", \"open\", \"high\", \"low\",\"close\",\"volume\",'drop1','drop2']\n",
    "\n",
    "data2 = pd.read_csv('/home/balazs/Desktop/adathalmazok/btc_2012-2021/btc_split_data_part_07', sep=\",\", header=None)\n",
    "data2.columns = [\"time\", \"open\", \"high\", \"low\",\"close\",\"volume\",'drop1','drop2']\n",
    "\n",
    "data3 = pd.read_csv('/home/balazs/Desktop/adathalmazok/btc_2012-2021/btc_split_data_part_08', sep=\",\", header=None)\n",
    "data3.columns = [\"time\", \"open\", \"high\", \"low\",\"close\",\"volume\",'drop1','drop2']\n",
    "\n",
    "data4 = pd.read_csv('/home/balazs/Desktop/adathalmazok/btc_2012-2021/btc_split_data_part_09', sep=\",\", header=None)\n",
    "data4.columns = [\"time\", \"open\", \"high\", \"low\",\"close\",\"volume\"]\n",
    "\n",
    "data= pd.concat([data1,data2,data3,data4], axis=0)\n",
    "#data\n",
    "\n",
    "#data=data4\n",
    "    "
   ]
  },
  {
   "cell_type": "code",
   "execution_count": null,
   "id": "3023cd85",
   "metadata": {},
   "outputs": [],
   "source": [
    "%%time\n",
    "#btc_data = pd.read_csv(r\"/home/balazs/Desktop/szakdoga_info/btc_data.csv\")\n",
    "#data = btc_data.dropna()\n",
    "data['MA5']=data['open'].rolling(window =5).mean()\n",
    "data['EMA5']=data['open'].ewm(span=5,min_periods=0,adjust=False,ignore_na=False).mean()\n",
    "data['CMA']=data.open.expanding().mean()\n",
    "data['open_percentage_change']=data.open.pct_change()\n",
    "data['close_percentage_change']=data.close.pct_change()\n",
    "data['high_percentage_change']=data.high.pct_change()\n",
    "data['low_percentage_change']=data.low.pct_change()\n",
    "data['volume_percentage_change']=data.volume.pct_change()\n",
    "lista=[]\n",
    "for i in range(len(data.open_percentage_change.values)-5):\n",
    "        value=data.open_percentage_change.values[i+1]+data.open_percentage_change.values[i+2]+data.open_percentage_change.values[i+3]+data.open_percentage_change.values[i+4]+data.open_percentage_change.values[i+5]\n",
    "        lista.append(value)\n",
    "for i in range(5):\n",
    "    lista.append(0)\n",
    "data['profit']=lista\n",
    "buy_sell_list=[classificateWithNumbersThreeTarget(elem) for elem in data.profit]\n",
    "data['decision']=buy_sell_list\n",
    "data=data.dropna()\n",
    "data.drop(data.tail(5).index,inplace=True) # drop last n rows\n",
    "aboveValue(data.open.values,data.MA5.values,data,'aboveMA5')\n",
    "aboveValue(data.open.values,data.EMA5.values,data,'aboveEMA5')\n",
    "aboveValue(data.open.values,data.CMA.values,data,'aboveCMA')"
   ]
  },
  {
   "cell_type": "code",
   "execution_count": null,
   "id": "b04e5b9a",
   "metadata": {},
   "outputs": [],
   "source": [
    "data"
   ]
  },
  {
   "cell_type": "code",
   "execution_count": null,
   "id": "ccaf94b0",
   "metadata": {},
   "outputs": [],
   "source": [
    "X=data[['close_percentage_change','high_percentage_change','low_percentage_change','decision']]\n",
    "y=data[['decision']]\n",
    "\n",
    "from imblearn.combine import SMOTETomek\n",
    "smt = SMOTETomek(random_state=42)\n",
    "X, y = smt.fit_resample(X, y)"
   ]
  },
  {
   "cell_type": "code",
   "execution_count": null,
   "id": "165f6879",
   "metadata": {},
   "outputs": [],
   "source": [
    "from sklearn.model_selection import train_test_split\n",
    "X_train, X_test, y_train, y_test = train_test_split(X, y, test_size=0.3, random_state=1) # 70% training and 30% test"
   ]
  },
  {
   "cell_type": "code",
   "execution_count": null,
   "id": "4c2e300f",
   "metadata": {},
   "outputs": [],
   "source": [
    "X"
   ]
  },
  {
   "cell_type": "code",
   "execution_count": null,
   "id": "44efa699",
   "metadata": {},
   "outputs": [],
   "source": [
    "y"
   ]
  },
  {
   "cell_type": "markdown",
   "id": "7d1fca12",
   "metadata": {},
   "source": [
    "# tanítás"
   ]
  },
  {
   "cell_type": "code",
   "execution_count": null,
   "id": "2e7b53a7",
   "metadata": {},
   "outputs": [],
   "source": [
    "import tensorflow as tf\n",
    "from tensorflow import keras\n",
    "from tensorflow.keras import layers"
   ]
  },
  {
   "cell_type": "code",
   "execution_count": null,
   "id": "ad98da9f",
   "metadata": {},
   "outputs": [],
   "source": [
    "from numpy import array\n",
    "from keras.models import Sequential\n",
    "from keras.layers import LSTM\n",
    "from keras.layers import Dense"
   ]
  },
  {
   "cell_type": "code",
   "execution_count": null,
   "id": "e3292063",
   "metadata": {},
   "outputs": [],
   "source": [
    "# split a univariate sequence into samples\n",
    "def split_sequence(sequence, n_steps):\n",
    "    X, y = list(), list()\n",
    "    for i in range(len(sequence)):\n",
    "        # find the end of this pattern\n",
    "        end_ix = i + n_steps\n",
    "        # check if we are beyond the sequence\n",
    "        if end_ix > len(sequence)-1:\n",
    "            break\n",
    "    # gather input and output parts of the pattern\n",
    "        seq_x, seq_y = sequence[i:end_ix], sequence[end_ix]\n",
    "        X.append(seq_x)\n",
    "        y.append(seq_y)\n",
    "    return array(X), array(y)"
   ]
  },
  {
   "cell_type": "code",
   "execution_count": null,
   "id": "e6b970ce",
   "metadata": {},
   "outputs": [],
   "source": [
    "data"
   ]
  },
  {
   "cell_type": "code",
   "execution_count": null,
   "id": "b9b56fb6",
   "metadata": {},
   "outputs": [],
   "source": [
    "lista=data['profit'].values\n",
    "decision_list=data['decision'].values"
   ]
  },
  {
   "cell_type": "code",
   "execution_count": null,
   "id": "8b489e9f",
   "metadata": {},
   "outputs": [],
   "source": [
    "n = len(lista)\n",
    "data_train = lista[0 : int(n*0.8)]\n",
    "data_test = lista[int(n*0.8):]\n",
    "\n",
    "test_decision_list=decision_list[int(n*0.8):]"
   ]
  },
  {
   "cell_type": "code",
   "execution_count": null,
   "id": "a56016fd",
   "metadata": {},
   "outputs": [],
   "source": []
  },
  {
   "cell_type": "code",
   "execution_count": null,
   "id": "4dde0bf9",
   "metadata": {},
   "outputs": [],
   "source": [
    "np.unique(test_decision_list,return_counts=True)"
   ]
  },
  {
   "cell_type": "code",
   "execution_count": null,
   "id": "254d6039",
   "metadata": {},
   "outputs": [],
   "source": [
    "test_decision_list[149]"
   ]
  },
  {
   "cell_type": "code",
   "execution_count": null,
   "id": "0645b09e",
   "metadata": {},
   "outputs": [],
   "source": [
    "data_test[149]\n"
   ]
  },
  {
   "cell_type": "code",
   "execution_count": null,
   "id": "1b86c404",
   "metadata": {},
   "outputs": [],
   "source": [
    "# choose a number of time steps\n",
    "n_steps = 10\n",
    "# split into samples\n",
    "\n",
    "train_X, train_y= split_sequence(data_train, n_steps)\n",
    "# summarize the data\n"
   ]
  },
  {
   "cell_type": "code",
   "execution_count": null,
   "id": "3bf63f29",
   "metadata": {},
   "outputs": [],
   "source": [
    "# reshape from [samples, timesteps] into [samples, timesteps, features]\n",
    "n_features = 1\n",
    "train_X = train_X.reshape((train_X.shape[0], train_X.shape[1], n_features))"
   ]
  },
  {
   "cell_type": "code",
   "execution_count": null,
   "id": "21975c01",
   "metadata": {},
   "outputs": [],
   "source": [
    "tf.keras.callbacks.EarlyStopping(\n",
    "    monitor=\"val_loss\",\n",
    "    min_delta=0,\n",
    "    patience=0,\n",
    "    verbose=0,\n",
    "    mode=\"auto\",\n",
    "    baseline=None,\n",
    "    restore_best_weights=False,\n",
    ")"
   ]
  },
  {
   "cell_type": "code",
   "execution_count": null,
   "id": "366f21e1",
   "metadata": {},
   "outputs": [],
   "source": [
    "callback = tf.keras.callbacks.EarlyStopping(monitor='loss', patience=3)\n",
    "# This callback will stop the training when there is no improvement in  \n",
    "# the validation loss for three consecutive epochs.  \n",
    "model = Sequential()\n",
    "model.add(LSTM(25, activation='relu', input_shape=(10, 1)))\n",
    "model.add(Dense(1))\n",
    "model.compile(optimizer='adam', loss='mse')\n",
    "history=model.fit(train_X, train_y, epochs=20, verbose=1, callbacks=[callback])\n",
    "len(history.history['loss'])"
   ]
  },
  {
   "cell_type": "code",
   "execution_count": null,
   "id": "feef4467",
   "metadata": {},
   "outputs": [],
   "source": [
    "test_decision_list"
   ]
  },
  {
   "cell_type": "code",
   "execution_count": null,
   "id": "d91db0a6",
   "metadata": {},
   "outputs": [],
   "source": [
    "# choose a number of time steps\n",
    "n_steps = 10\n",
    "# split into samples\n",
    "test_X, test_y = split_sequence(data_test, n_steps)\n",
    "# summarize the data"
   ]
  },
  {
   "cell_type": "code",
   "execution_count": null,
   "id": "5102bc9d",
   "metadata": {},
   "outputs": [],
   "source": [
    "# choose a number of time steps\n",
    "n_steps = 10\n",
    "# split into samples\n",
    "test_dec_X, test_dec_y = split_sequence(test_decision_list, n_steps)\n",
    "# summarize the data"
   ]
  },
  {
   "cell_type": "code",
   "execution_count": null,
   "id": "05869306",
   "metadata": {},
   "outputs": [],
   "source": [
    "test_dec_y"
   ]
  },
  {
   "cell_type": "code",
   "execution_count": null,
   "id": "df50a1f9",
   "metadata": {},
   "outputs": [],
   "source": [
    "test_X = test_X.reshape((test_X.shape[0], test_X.shape[1], n_features))"
   ]
  },
  {
   "cell_type": "code",
   "execution_count": null,
   "id": "f83ee220",
   "metadata": {},
   "outputs": [],
   "source": [
    "test_dec_X = test_dec_X.reshape((test_dec_X.shape[0], test_dec_X.shape[1], n_features))"
   ]
  },
  {
   "cell_type": "code",
   "execution_count": null,
   "id": "f709498a",
   "metadata": {},
   "outputs": [],
   "source": [
    "test_dec_X"
   ]
  },
  {
   "cell_type": "code",
   "execution_count": null,
   "id": "0d26efc2",
   "metadata": {},
   "outputs": [],
   "source": [
    "yhat = model.predict(test_X, verbose=0)"
   ]
  },
  {
   "cell_type": "code",
   "execution_count": null,
   "id": "37645cef",
   "metadata": {},
   "outputs": [],
   "source": [
    "performance =model.evaluate(test_X,test_y)\n",
    "print (performance)"
   ]
  },
  {
   "cell_type": "code",
   "execution_count": null,
   "id": "18abcb5d",
   "metadata": {},
   "outputs": [],
   "source": [
    "mean_squared_error(test_y, yhat)"
   ]
  },
  {
   "cell_type": "code",
   "execution_count": null,
   "id": "7ff9ab12",
   "metadata": {},
   "outputs": [],
   "source": []
  },
  {
   "cell_type": "code",
   "execution_count": null,
   "id": "eab78389",
   "metadata": {},
   "outputs": [],
   "source": [
    "def metrikak(test_y,yhat):\n",
    "    print(f\"\"\"MSE:{mean_squared_error(test_y, yhat)}\"\"\")\n",
    "    #print(f\"\"\"MSE:{mean_squared_error(test_y, yhat)}\"\"\")\n",
    "    #print(f\"\"\"MSE:{mean_squared_error(test_y, yhat)}\"\"\")"
   ]
  },
  {
   "cell_type": "code",
   "execution_count": null,
   "id": "5921bf6c",
   "metadata": {},
   "outputs": [],
   "source": [
    "kirajzoltatas(yhat,test_y)"
   ]
  },
  {
   "cell_type": "code",
   "execution_count": null,
   "id": "a8adfa57",
   "metadata": {},
   "outputs": [],
   "source": [
    "test_y"
   ]
  },
  {
   "cell_type": "code",
   "execution_count": null,
   "id": "1deb6e05",
   "metadata": {},
   "outputs": [],
   "source": [
    "test_dec_y"
   ]
  },
  {
   "cell_type": "code",
   "execution_count": null,
   "id": "2f54c9fe",
   "metadata": {},
   "outputs": [],
   "source": [
    "joslatok=[elem[0] for elem in yhat]"
   ]
  },
  {
   "cell_type": "code",
   "execution_count": null,
   "id": "43a63842",
   "metadata": {},
   "outputs": [],
   "source": [
    "joslatok_decisionben=[classificateWithNumbersThreeTarget(elem) for elem in joslatok]"
   ]
  },
  {
   "cell_type": "code",
   "execution_count": null,
   "id": "e8684578",
   "metadata": {},
   "outputs": [],
   "source": [
    "joslatok_decisionben"
   ]
  },
  {
   "cell_type": "code",
   "execution_count": null,
   "id": "b252cdb6",
   "metadata": {},
   "outputs": [],
   "source": [
    "from sklearn.metrics import classification_report\n",
    "classes = ['-1','0','1']\n",
    "print(classification_report(test_dec_y, joslatok_decisionben, target_names = classes, zero_division = 0))"
   ]
  },
  {
   "cell_type": "code",
   "execution_count": null,
   "id": "34f5ecba",
   "metadata": {},
   "outputs": [],
   "source": []
  },
  {
   "cell_type": "code",
   "execution_count": null,
   "id": "e32b99a4",
   "metadata": {},
   "outputs": [],
   "source": []
  }
 ],
 "metadata": {
  "kernelspec": {
   "display_name": "Python 3 (ipykernel)",
   "language": "python",
   "name": "python3"
  },
  "language_info": {
   "codemirror_mode": {
    "name": "ipython",
    "version": 3
   },
   "file_extension": ".py",
   "mimetype": "text/x-python",
   "name": "python",
   "nbconvert_exporter": "python",
   "pygments_lexer": "ipython3",
   "version": "3.8.10"
  }
 },
 "nbformat": 4,
 "nbformat_minor": 5
}

{
 "cells": [
  {
   "cell_type": "markdown",
   "id": "f4fe0c7e",
   "metadata": {},
   "source": [
    "# 1. Adat előkészítése"
   ]
  },
  {
   "cell_type": "code",
   "execution_count": 2,
   "id": "373f499c",
   "metadata": {},
   "outputs": [
    {
     "name": "stdout",
     "output_type": "stream",
     "text": [
      "Setup Complete\n"
     ]
    }
   ],
   "source": [
    "import pandas as pd\n",
    "pd.plotting.register_matplotlib_converters()\n",
    "import matplotlib.pyplot as plt\n",
    "%matplotlib inline\n",
    "import seaborn as sns\n",
    "import numpy as np\n",
    "import os\n",
    "import warnings\n",
    "warnings.filterwarnings('ignore')\n",
    "print(\"Setup Complete\")\n",
    "from pandas_profiling import ProfileReport\n",
    "from pandas_profiling.utils.cache import cache_file"
   ]
  },
  {
   "cell_type": "code",
   "execution_count": 3,
   "id": "9fddf7e8",
   "metadata": {},
   "outputs": [],
   "source": [
    "def classificate(value):\n",
    "    target='neutral'\n",
    "    if(value>=0.001 and value<=0.002):\n",
    "        target='buy'\n",
    "    elif(value>=0.002):\n",
    "        target='strong buy'\n",
    "    elif(value<=-0.001 and value>=-0.002):\n",
    "        target='sell'\n",
    "    elif(value<-0.002):\n",
    "        target='strong sell'\n",
    "    return target\n",
    "\n",
    "\n",
    "def classificateWithNumbers(value):\n",
    "    target=0\n",
    "    if(value>=0.001 and value<=0.002):\n",
    "        target=1\n",
    "    elif(value>=0.002):\n",
    "        target=2\n",
    "    elif(value<=-0.001 and value>=-0.002):\n",
    "        target=-1\n",
    "    elif(value<-0.002):\n",
    "        target=-2\n",
    "    return target\n",
    "\n",
    "def classificateWithNumbersThreeTarget(value):\n",
    "    target=0\n",
    "    if(value>=0.0015):\n",
    "        target=1\n",
    "    elif(value<=-0.0015):\n",
    "        target=-1\n",
    "    else:\n",
    "        target=0\n",
    "    return target\n",
    "\n",
    "\n",
    "\n",
    "def classificateWithIncreasingNumbers(value):\n",
    "    target=3\n",
    "    if(value>=0.0015 and value<=0.0025):\n",
    "        target=4\n",
    "    elif(value>=0.0025):\n",
    "        target=5\n",
    "    elif(value<=-0.0015 and value>=-0.0025):\n",
    "        target=2\n",
    "    elif(value<-0.0025):\n",
    "        target=1\n",
    "    return target\n",
    "\n",
    "def correlation_heatmap(df):\n",
    "    correlations = df.corr()\n",
    "\n",
    "    fig, ax = plt.subplots(figsize=(40,40))\n",
    "    sns.heatmap(correlations, vmax=1.0, center=0, fmt='.2f',\n",
    "                square=True, linewidths=.1, annot=True, cbar_kws={\"shrink\": .7})\n",
    "    sns.set(font_scale=2)\n",
    "    plt.show();\n",
    "\n",
    "def aboveValue(openList,inspectList,df,name):\n",
    "    results=[]\n",
    "    for i in range(len(inspectList)):\n",
    "        if (openList[i]>inspectList[i]):\n",
    "            results.append(1)\n",
    "        else:\n",
    "            results.append(0)\n",
    "    df[name]=results\n",
    "    "
   ]
  },
  {
   "cell_type": "code",
   "execution_count": 4,
   "id": "cfbb85ec",
   "metadata": {},
   "outputs": [],
   "source": [
    "#data1 = pd.read_csv('/home/balazs/Desktop/adathalmazok/btc_2012-2021/btc_split_data_part_06', sep=\",\", header=None)\n",
    "#data1.columns = [\"time\", \"open\", \"high\", \"low\",\"close\",\"volume\",'drop1','drop2']\n",
    "\n",
    "#data2 = pd.read_csv('/home/balazs/Desktop/adathalmazok/btc_2012-2021/btc_split_data_part_07', sep=\",\", header=None)\n",
    "#data2.columns = [\"time\", \"open\", \"high\", \"low\",\"close\",\"volume\",'drop1','drop2']\n",
    "\n",
    "#data3 = pd.read_csv('/home/balazs/Desktop/adathalmazok/btc_2012-2021/btc_split_data_part_08', sep=\",\", header=None)\n",
    "#data3.columns = [\"time\", \"open\", \"high\", \"low\",\"close\",\"volume\",'drop1','drop2']\n",
    "\n",
    "data4 = pd.read_csv('/home/balazs/Desktop/adathalmazok/btc_2012-2021/btc_split_data_part_09', sep=\",\", header=None)\n",
    "data4.columns = [\"time\", \"open\", \"high\", \"low\",\"close\",\"volume\"]\n",
    "\n",
    "#data= pd.concat([data1,data2,data3,data4], axis=0)\n",
    "#data\n",
    "\n",
    "data=data4"
   ]
  },
  {
   "cell_type": "code",
   "execution_count": 5,
   "id": "72250c12",
   "metadata": {},
   "outputs": [
    {
     "name": "stdout",
     "output_type": "stream",
     "text": [
      "CPU times: user 7.97 s, sys: 49.1 ms, total: 8.02 s\n",
      "Wall time: 8.04 s\n"
     ]
    }
   ],
   "source": [
    "%%time\n",
    "#btc_data = pd.read_csv(r\"/home/balazs/Desktop/szakdoga_info/btc_data.csv\")\n",
    "#data = btc_data.dropna()\n",
    "data['MA5']=data['open'].rolling(window =5).mean()\n",
    "data['EMA5']=data['open'].ewm(span=5,min_periods=0,adjust=False,ignore_na=False).mean()\n",
    "data['CMA']=data.open.expanding().mean()\n",
    "data['open_percentage_change']=data.open.pct_change()\n",
    "data['close_percentage_change']=data.close.pct_change()\n",
    "data['high_percentage_change']=data.high.pct_change()\n",
    "data['low_percentage_change']=data.low.pct_change()\n",
    "data['volume_percentage_change']=data.volume.pct_change()\n",
    "lista=[]\n",
    "for i in range(len(data.open_percentage_change.values)-5):\n",
    "        value=data.open_percentage_change.values[i+1]+data.open_percentage_change.values[i+2]+data.open_percentage_change.values[i+3]+data.open_percentage_change.values[i+4]+data.open_percentage_change.values[i+5]\n",
    "        lista.append(value)\n",
    "for i in range(5):\n",
    "    lista.append(0)\n",
    "data['profit']=lista\n",
    "buy_sell_list=[classificateWithNumbersThreeTarget(elem) for elem in data.profit]\n",
    "data['decision']=buy_sell_list"
   ]
  },
  {
   "cell_type": "code",
   "execution_count": 6,
   "id": "2a2f459b",
   "metadata": {},
   "outputs": [],
   "source": [
    "data=data.dropna()"
   ]
  },
  {
   "cell_type": "code",
   "execution_count": 7,
   "id": "602f083b",
   "metadata": {},
   "outputs": [],
   "source": [
    "data.drop(data.tail(5).index,inplace=True) # drop last n rows"
   ]
  },
  {
   "cell_type": "code",
   "execution_count": 8,
   "id": "98cbe52c",
   "metadata": {},
   "outputs": [
    {
     "data": {
      "text/html": [
       "<div>\n",
       "<style scoped>\n",
       "    .dataframe tbody tr th:only-of-type {\n",
       "        vertical-align: middle;\n",
       "    }\n",
       "\n",
       "    .dataframe tbody tr th {\n",
       "        vertical-align: top;\n",
       "    }\n",
       "\n",
       "    .dataframe thead th {\n",
       "        text-align: right;\n",
       "    }\n",
       "</style>\n",
       "<table border=\"1\" class=\"dataframe\">\n",
       "  <thead>\n",
       "    <tr style=\"text-align: right;\">\n",
       "      <th></th>\n",
       "      <th>time</th>\n",
       "      <th>open</th>\n",
       "      <th>high</th>\n",
       "      <th>low</th>\n",
       "      <th>close</th>\n",
       "      <th>volume</th>\n",
       "      <th>MA5</th>\n",
       "      <th>EMA5</th>\n",
       "      <th>CMA</th>\n",
       "      <th>open_percentage_change</th>\n",
       "      <th>close_percentage_change</th>\n",
       "      <th>high_percentage_change</th>\n",
       "      <th>low_percentage_change</th>\n",
       "      <th>volume_percentage_change</th>\n",
       "      <th>profit</th>\n",
       "      <th>decision</th>\n",
       "      <th>aboveMA5</th>\n",
       "      <th>aboveEMA5</th>\n",
       "      <th>aboveCMA</th>\n",
       "    </tr>\n",
       "  </thead>\n",
       "  <tbody>\n",
       "    <tr>\n",
       "      <th>4</th>\n",
       "      <td>1595706420</td>\n",
       "      <td>9687.92</td>\n",
       "      <td>9692.32</td>\n",
       "      <td>9687.92</td>\n",
       "      <td>9691.73</td>\n",
       "      <td>0.035786</td>\n",
       "      <td>9688.828</td>\n",
       "      <td>9688.994568</td>\n",
       "      <td>9688.828000</td>\n",
       "      <td>-0.000369</td>\n",
       "      <td>-0.000061</td>\n",
       "      <td>0.000000</td>\n",
       "      <td>-0.000369</td>\n",
       "      <td>-0.478041</td>\n",
       "      <td>0.000959</td>\n",
       "      <td>0</td>\n",
       "      <td>0</td>\n",
       "      <td>0</td>\n",
       "      <td>0</td>\n",
       "    </tr>\n",
       "    <tr>\n",
       "      <th>5</th>\n",
       "      <td>1595706480</td>\n",
       "      <td>9691.73</td>\n",
       "      <td>9698.13</td>\n",
       "      <td>9691.73</td>\n",
       "      <td>9698.13</td>\n",
       "      <td>0.865957</td>\n",
       "      <td>9689.064</td>\n",
       "      <td>9689.906379</td>\n",
       "      <td>9689.311667</td>\n",
       "      <td>0.000393</td>\n",
       "      <td>0.000660</td>\n",
       "      <td>0.000599</td>\n",
       "      <td>0.000393</td>\n",
       "      <td>23.198503</td>\n",
       "      <td>-0.000637</td>\n",
       "      <td>0</td>\n",
       "      <td>1</td>\n",
       "      <td>1</td>\n",
       "      <td>1</td>\n",
       "    </tr>\n",
       "    <tr>\n",
       "      <th>6</th>\n",
       "      <td>1595706540</td>\n",
       "      <td>9696.89</td>\n",
       "      <td>9698.60</td>\n",
       "      <td>9691.31</td>\n",
       "      <td>9692.71</td>\n",
       "      <td>3.622457</td>\n",
       "      <td>9690.886</td>\n",
       "      <td>9692.234252</td>\n",
       "      <td>9690.394286</td>\n",
       "      <td>0.000532</td>\n",
       "      <td>-0.000559</td>\n",
       "      <td>0.000048</td>\n",
       "      <td>-0.000043</td>\n",
       "      <td>3.183185</td>\n",
       "      <td>-0.001400</td>\n",
       "      <td>0</td>\n",
       "      <td>1</td>\n",
       "      <td>1</td>\n",
       "      <td>1</td>\n",
       "    </tr>\n",
       "    <tr>\n",
       "      <th>7</th>\n",
       "      <td>1595706600</td>\n",
       "      <td>9698.68</td>\n",
       "      <td>9698.68</td>\n",
       "      <td>9698.68</td>\n",
       "      <td>9698.68</td>\n",
       "      <td>0.076229</td>\n",
       "      <td>9693.344</td>\n",
       "      <td>9694.382835</td>\n",
       "      <td>9691.430000</td>\n",
       "      <td>0.000185</td>\n",
       "      <td>0.000616</td>\n",
       "      <td>0.000008</td>\n",
       "      <td>0.000760</td>\n",
       "      <td>-0.978956</td>\n",
       "      <td>-0.001591</td>\n",
       "      <td>-1</td>\n",
       "      <td>1</td>\n",
       "      <td>1</td>\n",
       "      <td>1</td>\n",
       "    </tr>\n",
       "    <tr>\n",
       "      <th>8</th>\n",
       "      <td>1595706660</td>\n",
       "      <td>9693.49</td>\n",
       "      <td>9699.60</td>\n",
       "      <td>9693.49</td>\n",
       "      <td>9699.60</td>\n",
       "      <td>0.448836</td>\n",
       "      <td>9693.742</td>\n",
       "      <td>9694.085223</td>\n",
       "      <td>9691.658889</td>\n",
       "      <td>-0.000535</td>\n",
       "      <td>0.000095</td>\n",
       "      <td>0.000095</td>\n",
       "      <td>-0.000535</td>\n",
       "      <td>4.887971</td>\n",
       "      <td>-0.000947</td>\n",
       "      <td>0</td>\n",
       "      <td>0</td>\n",
       "      <td>0</td>\n",
       "      <td>1</td>\n",
       "    </tr>\n",
       "    <tr>\n",
       "      <th>...</th>\n",
       "      <td>...</td>\n",
       "      <td>...</td>\n",
       "      <td>...</td>\n",
       "      <td>...</td>\n",
       "      <td>...</td>\n",
       "      <td>...</td>\n",
       "      <td>...</td>\n",
       "      <td>...</td>\n",
       "      <td>...</td>\n",
       "      <td>...</td>\n",
       "      <td>...</td>\n",
       "      <td>...</td>\n",
       "      <td>...</td>\n",
       "      <td>...</td>\n",
       "      <td>...</td>\n",
       "      <td>...</td>\n",
       "      <td>...</td>\n",
       "      <td>...</td>\n",
       "      <td>...</td>\n",
       "    </tr>\n",
       "    <tr>\n",
       "      <th>357363</th>\n",
       "      <td>1617147960</td>\n",
       "      <td>58631.74</td>\n",
       "      <td>58699.00</td>\n",
       "      <td>58631.74</td>\n",
       "      <td>58666.54</td>\n",
       "      <td>10.421432</td>\n",
       "      <td>58609.484</td>\n",
       "      <td>58615.089698</td>\n",
       "      <td>25394.927318</td>\n",
       "      <td>0.000542</td>\n",
       "      <td>0.001135</td>\n",
       "      <td>0.001689</td>\n",
       "      <td>0.000542</td>\n",
       "      <td>0.000889</td>\n",
       "      <td>0.000773</td>\n",
       "      <td>0</td>\n",
       "      <td>1</td>\n",
       "      <td>1</td>\n",
       "      <td>1</td>\n",
       "    </tr>\n",
       "    <tr>\n",
       "      <th>357364</th>\n",
       "      <td>1617148020</td>\n",
       "      <td>58680.18</td>\n",
       "      <td>58702.79</td>\n",
       "      <td>58680.18</td>\n",
       "      <td>58702.79</td>\n",
       "      <td>0.144199</td>\n",
       "      <td>58624.130</td>\n",
       "      <td>58636.786466</td>\n",
       "      <td>25395.021125</td>\n",
       "      <td>0.000826</td>\n",
       "      <td>0.000618</td>\n",
       "      <td>0.000065</td>\n",
       "      <td>0.000826</td>\n",
       "      <td>-0.986163</td>\n",
       "      <td>-0.000053</td>\n",
       "      <td>0</td>\n",
       "      <td>1</td>\n",
       "      <td>1</td>\n",
       "      <td>1</td>\n",
       "    </tr>\n",
       "    <tr>\n",
       "      <th>357365</th>\n",
       "      <td>1617148080</td>\n",
       "      <td>58699.45</td>\n",
       "      <td>58699.45</td>\n",
       "      <td>58675.12</td>\n",
       "      <td>58677.70</td>\n",
       "      <td>1.165074</td>\n",
       "      <td>58642.228</td>\n",
       "      <td>58657.674310</td>\n",
       "      <td>25395.114986</td>\n",
       "      <td>0.000328</td>\n",
       "      <td>-0.000427</td>\n",
       "      <td>-0.000057</td>\n",
       "      <td>-0.000086</td>\n",
       "      <td>7.079629</td>\n",
       "      <td>0.000328</td>\n",
       "      <td>0</td>\n",
       "      <td>1</td>\n",
       "      <td>1</td>\n",
       "      <td>1</td>\n",
       "    </tr>\n",
       "    <tr>\n",
       "      <th>357366</th>\n",
       "      <td>1617148140</td>\n",
       "      <td>58673.20</td>\n",
       "      <td>58673.20</td>\n",
       "      <td>58644.13</td>\n",
       "      <td>58644.13</td>\n",
       "      <td>0.843998</td>\n",
       "      <td>58656.912</td>\n",
       "      <td>58662.849540</td>\n",
       "      <td>25395.208772</td>\n",
       "      <td>-0.000447</td>\n",
       "      <td>-0.000572</td>\n",
       "      <td>-0.000447</td>\n",
       "      <td>-0.000528</td>\n",
       "      <td>-0.275584</td>\n",
       "      <td>0.001073</td>\n",
       "      <td>0</td>\n",
       "      <td>1</td>\n",
       "      <td>1</td>\n",
       "      <td>1</td>\n",
       "    </tr>\n",
       "    <tr>\n",
       "      <th>357367</th>\n",
       "      <td>1617148200</td>\n",
       "      <td>58673.20</td>\n",
       "      <td>58689.44</td>\n",
       "      <td>58673.20</td>\n",
       "      <td>58689.44</td>\n",
       "      <td>0.576412</td>\n",
       "      <td>58671.554</td>\n",
       "      <td>58666.299693</td>\n",
       "      <td>25395.302558</td>\n",
       "      <td>0.000000</td>\n",
       "      <td>0.000773</td>\n",
       "      <td>0.000277</td>\n",
       "      <td>0.000496</td>\n",
       "      <td>-0.317046</td>\n",
       "      <td>0.001175</td>\n",
       "      <td>0</td>\n",
       "      <td>1</td>\n",
       "      <td>1</td>\n",
       "      <td>1</td>\n",
       "    </tr>\n",
       "  </tbody>\n",
       "</table>\n",
       "<p>347827 rows × 19 columns</p>\n",
       "</div>"
      ],
      "text/plain": [
       "              time      open      high       low     close     volume  \\\n",
       "4       1595706420   9687.92   9692.32   9687.92   9691.73   0.035786   \n",
       "5       1595706480   9691.73   9698.13   9691.73   9698.13   0.865957   \n",
       "6       1595706540   9696.89   9698.60   9691.31   9692.71   3.622457   \n",
       "7       1595706600   9698.68   9698.68   9698.68   9698.68   0.076229   \n",
       "8       1595706660   9693.49   9699.60   9693.49   9699.60   0.448836   \n",
       "...            ...       ...       ...       ...       ...        ...   \n",
       "357363  1617147960  58631.74  58699.00  58631.74  58666.54  10.421432   \n",
       "357364  1617148020  58680.18  58702.79  58680.18  58702.79   0.144199   \n",
       "357365  1617148080  58699.45  58699.45  58675.12  58677.70   1.165074   \n",
       "357366  1617148140  58673.20  58673.20  58644.13  58644.13   0.843998   \n",
       "357367  1617148200  58673.20  58689.44  58673.20  58689.44   0.576412   \n",
       "\n",
       "              MA5          EMA5           CMA  open_percentage_change  \\\n",
       "4        9688.828   9688.994568   9688.828000               -0.000369   \n",
       "5        9689.064   9689.906379   9689.311667                0.000393   \n",
       "6        9690.886   9692.234252   9690.394286                0.000532   \n",
       "7        9693.344   9694.382835   9691.430000                0.000185   \n",
       "8        9693.742   9694.085223   9691.658889               -0.000535   \n",
       "...           ...           ...           ...                     ...   \n",
       "357363  58609.484  58615.089698  25394.927318                0.000542   \n",
       "357364  58624.130  58636.786466  25395.021125                0.000826   \n",
       "357365  58642.228  58657.674310  25395.114986                0.000328   \n",
       "357366  58656.912  58662.849540  25395.208772               -0.000447   \n",
       "357367  58671.554  58666.299693  25395.302558                0.000000   \n",
       "\n",
       "        close_percentage_change  high_percentage_change  \\\n",
       "4                     -0.000061                0.000000   \n",
       "5                      0.000660                0.000599   \n",
       "6                     -0.000559                0.000048   \n",
       "7                      0.000616                0.000008   \n",
       "8                      0.000095                0.000095   \n",
       "...                         ...                     ...   \n",
       "357363                 0.001135                0.001689   \n",
       "357364                 0.000618                0.000065   \n",
       "357365                -0.000427               -0.000057   \n",
       "357366                -0.000572               -0.000447   \n",
       "357367                 0.000773                0.000277   \n",
       "\n",
       "        low_percentage_change  volume_percentage_change    profit  decision  \\\n",
       "4                   -0.000369                 -0.478041  0.000959         0   \n",
       "5                    0.000393                 23.198503 -0.000637         0   \n",
       "6                   -0.000043                  3.183185 -0.001400         0   \n",
       "7                    0.000760                 -0.978956 -0.001591        -1   \n",
       "8                   -0.000535                  4.887971 -0.000947         0   \n",
       "...                       ...                       ...       ...       ...   \n",
       "357363               0.000542                  0.000889  0.000773         0   \n",
       "357364               0.000826                 -0.986163 -0.000053         0   \n",
       "357365              -0.000086                  7.079629  0.000328         0   \n",
       "357366              -0.000528                 -0.275584  0.001073         0   \n",
       "357367               0.000496                 -0.317046  0.001175         0   \n",
       "\n",
       "        aboveMA5  aboveEMA5  aboveCMA  \n",
       "4              0          0         0  \n",
       "5              1          1         1  \n",
       "6              1          1         1  \n",
       "7              1          1         1  \n",
       "8              0          0         1  \n",
       "...          ...        ...       ...  \n",
       "357363         1          1         1  \n",
       "357364         1          1         1  \n",
       "357365         1          1         1  \n",
       "357366         1          1         1  \n",
       "357367         1          1         1  \n",
       "\n",
       "[347827 rows x 19 columns]"
      ]
     },
     "execution_count": 8,
     "metadata": {},
     "output_type": "execute_result"
    }
   ],
   "source": [
    "aboveValue(data.open.values,data.MA5.values,data,'aboveMA5')\n",
    "aboveValue(data.open.values,data.EMA5.values,data,'aboveEMA5')\n",
    "aboveValue(data.open.values,data.CMA.values,data,'aboveCMA')\n",
    "data"
   ]
  },
  {
   "cell_type": "code",
   "execution_count": 9,
   "id": "fb772d72",
   "metadata": {},
   "outputs": [],
   "source": [
    "X=data[['close_percentage_change','high_percentage_change','low_percentage_change']]\n",
    "y=data[['decision']]"
   ]
  },
  {
   "cell_type": "code",
   "execution_count": 14,
   "id": "744edbc4",
   "metadata": {},
   "outputs": [],
   "source": [
    "from imblearn.over_sampling import SMOTE\n",
    "\n",
    "smote = SMOTE()\n",
    "X, y = smote.fit_resample(X, y)"
   ]
  },
  {
   "cell_type": "code",
   "execution_count": 15,
   "id": "b598113f",
   "metadata": {},
   "outputs": [],
   "source": [
    "from imblearn.under_sampling import TomekLinks\n",
    "TK = TomekLinks(sampling_strategy='majority')\n",
    "X, y = TK.fit_resample(X, y)"
   ]
  },
  {
   "cell_type": "code",
   "execution_count": 16,
   "id": "c504038a",
   "metadata": {},
   "outputs": [
    {
     "data": {
      "text/html": [
       "<div>\n",
       "<style scoped>\n",
       "    .dataframe tbody tr th:only-of-type {\n",
       "        vertical-align: middle;\n",
       "    }\n",
       "\n",
       "    .dataframe tbody tr th {\n",
       "        vertical-align: top;\n",
       "    }\n",
       "\n",
       "    .dataframe thead th {\n",
       "        text-align: right;\n",
       "    }\n",
       "</style>\n",
       "<table border=\"1\" class=\"dataframe\">\n",
       "  <thead>\n",
       "    <tr style=\"text-align: right;\">\n",
       "      <th></th>\n",
       "      <th>decision</th>\n",
       "    </tr>\n",
       "  </thead>\n",
       "  <tbody>\n",
       "    <tr>\n",
       "      <th>0</th>\n",
       "      <td>0</td>\n",
       "    </tr>\n",
       "    <tr>\n",
       "      <th>1</th>\n",
       "      <td>0</td>\n",
       "    </tr>\n",
       "    <tr>\n",
       "      <th>2</th>\n",
       "      <td>0</td>\n",
       "    </tr>\n",
       "    <tr>\n",
       "      <th>3</th>\n",
       "      <td>-1</td>\n",
       "    </tr>\n",
       "    <tr>\n",
       "      <th>4</th>\n",
       "      <td>0</td>\n",
       "    </tr>\n",
       "    <tr>\n",
       "      <th>...</th>\n",
       "      <td>...</td>\n",
       "    </tr>\n",
       "    <tr>\n",
       "      <th>640721</th>\n",
       "      <td>1</td>\n",
       "    </tr>\n",
       "    <tr>\n",
       "      <th>640722</th>\n",
       "      <td>1</td>\n",
       "    </tr>\n",
       "    <tr>\n",
       "      <th>640723</th>\n",
       "      <td>1</td>\n",
       "    </tr>\n",
       "    <tr>\n",
       "      <th>640724</th>\n",
       "      <td>1</td>\n",
       "    </tr>\n",
       "    <tr>\n",
       "      <th>640725</th>\n",
       "      <td>1</td>\n",
       "    </tr>\n",
       "  </tbody>\n",
       "</table>\n",
       "<p>640726 rows × 1 columns</p>\n",
       "</div>"
      ],
      "text/plain": [
       "        decision\n",
       "0              0\n",
       "1              0\n",
       "2              0\n",
       "3             -1\n",
       "4              0\n",
       "...          ...\n",
       "640721         1\n",
       "640722         1\n",
       "640723         1\n",
       "640724         1\n",
       "640725         1\n",
       "\n",
       "[640726 rows x 1 columns]"
      ]
     },
     "execution_count": 16,
     "metadata": {},
     "output_type": "execute_result"
    }
   ],
   "source": [
    "y"
   ]
  },
  {
   "cell_type": "code",
   "execution_count": 17,
   "id": "ef00baa9",
   "metadata": {},
   "outputs": [],
   "source": [
    "correlation_heatmap(data)"
   ]
  },
  {
   "cell_type": "code",
   "execution_count": 20,
   "id": "deb57f99",
   "metadata": {},
   "outputs": [],
   "source": [
    "from sklearn.model_selection import train_test_split\n",
    "X_train, X_test, y_train, y_test = train_test_split(X, y, test_size=0.3, random_state=1) # 70% training and 30% test"
   ]
  },
  {
   "cell_type": "markdown",
   "id": "56bf14ec",
   "metadata": {},
   "source": [
    "# tanítás1"
   ]
  },
  {
   "cell_type": "code",
   "execution_count": 18,
   "id": "79880557",
   "metadata": {},
   "outputs": [],
   "source": [
    "from sklearn.ensemble import RandomForestRegressor, RandomForestClassifier\n",
    "from sklearn.datasets import make_classification\n",
    "from sklearn.metrics import roc_auc_score\n",
    "from sklearn.datasets import load_digits\n",
    "from sklearn.model_selection import train_test_split\n",
    "from sklearn import tree\n",
    "from sklearn.metrics import classification_report\n",
    "import pandas as pd\n",
    "from sklearn.tree import DecisionTreeClassifier # Import Decision Tree Classifier\n",
    "from sklearn.model_selection import train_test_split # Import train_test_split function\n",
    "from sklearn import metrics #Import scikit-learn metrics module for accuracy calculation"
   ]
  },
  {
   "cell_type": "code",
   "execution_count": 21,
   "id": "64f96404",
   "metadata": {},
   "outputs": [],
   "source": [
    "# Create Decision Tree classifer object\n",
    "clf = DecisionTreeClassifier()\n",
    "\n",
    "# Train Decision Tree Classifer\n",
    "clf = clf.fit(X_train,y_train)\n",
    "\n",
    "#Predict the response for test dataset\n",
    "y_pred = clf.predict(X_test)"
   ]
  },
  {
   "cell_type": "code",
   "execution_count": 22,
   "id": "f6bb0011",
   "metadata": {},
   "outputs": [
    {
     "name": "stdout",
     "output_type": "stream",
     "text": [
      "              precision    recall  f1-score   support\n",
      "\n",
      "          -1       0.66      0.69      0.67     60907\n",
      "           0       0.58      0.54      0.56     65723\n",
      "           1       0.65      0.67      0.66     65588\n",
      "\n",
      "    accuracy                           0.63    192218\n",
      "   macro avg       0.63      0.63      0.63    192218\n",
      "weighted avg       0.63      0.63      0.63    192218\n",
      "\n"
     ]
    }
   ],
   "source": [
    "classes = ['-1','0','1']\n",
    "print(classification_report(y_test, y_pred, target_names = classes, zero_division = 0))"
   ]
  },
  {
   "cell_type": "code",
   "execution_count": 64,
   "id": "dc1867ac",
   "metadata": {},
   "outputs": [
    {
     "data": {
      "text/plain": [
       "array([[-5.57828922e-04,  8.68393547e-04,  2.58810555e-03],\n",
       "       [-3.46053729e-04,  3.49628666e-04,  2.22176048e-04],\n",
       "       [ 1.11485143e-04, -1.47316155e-04, -8.03070943e-05],\n",
       "       ...,\n",
       "       [-1.96286472e-03, -2.54726117e-04, -1.76926061e-03],\n",
       "       [ 5.50583636e-05,  1.36767194e-04,  2.14142672e-05],\n",
       "       [-1.12255674e-03, -8.76902537e-04, -8.96679850e-04]])"
      ]
     },
     "execution_count": 64,
     "metadata": {},
     "output_type": "execute_result"
    }
   ],
   "source": [
    "X_test.values"
   ]
  },
  {
   "cell_type": "code",
   "execution_count": 62,
   "id": "6da7678a",
   "metadata": {},
   "outputs": [
    {
     "data": {
      "text/plain": [
       "array([0])"
      ]
     },
     "execution_count": 62,
     "metadata": {},
     "output_type": "execute_result"
    }
   ],
   "source": [
    "clf.predict([[0.000587,0.000618,0.000963]])"
   ]
  },
  {
   "cell_type": "code",
   "execution_count": 17,
   "id": "9ff80034",
   "metadata": {},
   "outputs": [],
   "source": [
    "joslat=clf.predict([[-1.63950453e-04, -1.62325046e-04, -8.54107954e-04],\n",
    "                    [-100.63950453e-04, -100.62325046e-04, -100.54107954e-04]\n",
    "                   ])"
   ]
  },
  {
   "cell_type": "code",
   "execution_count": 18,
   "id": "e98519d1",
   "metadata": {},
   "outputs": [
    {
     "data": {
      "text/plain": [
       "-1"
      ]
     },
     "execution_count": 18,
     "metadata": {},
     "output_type": "execute_result"
    }
   ],
   "source": [
    "joslat[1]"
   ]
  },
  {
   "cell_type": "code",
   "execution_count": 19,
   "id": "fe55a5bd",
   "metadata": {},
   "outputs": [
    {
     "data": {
      "text/plain": [
       "['decisionTree.joblib']"
      ]
     },
     "execution_count": 19,
     "metadata": {},
     "output_type": "execute_result"
    }
   ],
   "source": [
    "import joblib\n",
    "joblib.dump(clf,'decisionTree.joblib')"
   ]
  },
  {
   "cell_type": "markdown",
   "id": "34c5579d",
   "metadata": {},
   "source": [
    "# tanítás2"
   ]
  },
  {
   "cell_type": "code",
   "execution_count": 20,
   "id": "7c451447",
   "metadata": {},
   "outputs": [],
   "source": [
    "# Create Decision Tree classifer object\n",
    "clf = DecisionTreeClassifier(criterion='entropy',max_depth=10,min_samples_leaf=2,ccp_alpha=0.0001)\n",
    "\n",
    "# Train Decision Tree Classifer\n",
    "clf = clf.fit(X_train,y_train)\n",
    "\n",
    "#Predict the response for test dataset\n",
    "y_pred = clf.predict(X_test)"
   ]
  },
  {
   "cell_type": "code",
   "execution_count": 21,
   "id": "cf6a2195",
   "metadata": {},
   "outputs": [
    {
     "name": "stdout",
     "output_type": "stream",
     "text": [
      "              precision    recall  f1-score   support\n",
      "\n",
      "          -1       0.57      0.48      0.52     61206\n",
      "           0       0.50      0.60      0.55     65566\n",
      "           1       0.56      0.52      0.54     65435\n",
      "\n",
      "    accuracy                           0.54    192207\n",
      "   macro avg       0.54      0.54      0.54    192207\n",
      "weighted avg       0.54      0.54      0.54    192207\n",
      "\n"
     ]
    }
   ],
   "source": [
    "classes = ['-1','0','1']\n",
    "print(classification_report(y_test, y_pred, target_names = classes, zero_division = 0))"
   ]
  },
  {
   "cell_type": "markdown",
   "id": "7e3d2cf3",
   "metadata": {},
   "source": [
    "# mindenféle tanítás"
   ]
  },
  {
   "cell_type": "code",
   "execution_count": 14,
   "id": "d0562b99",
   "metadata": {},
   "outputs": [],
   "source": [
    "from sklearn.model_selection import train_test_split\n",
    "X_train, X_test, y_train, y_test = train_test_split(X, y, test_size=0.3, random_state=1) # 70% training and 30% test"
   ]
  },
  {
   "cell_type": "code",
   "execution_count": 15,
   "id": "f3da90e1",
   "metadata": {},
   "outputs": [],
   "source": [
    "X_train, X_test, y_train, y_test = train_test_split(X,y, random_state=0, stratify=y)"
   ]
  },
  {
   "cell_type": "code",
   "execution_count": 16,
   "id": "e077147d",
   "metadata": {},
   "outputs": [],
   "source": [
    "\n",
    "import numpy as np # linear algebra\n",
    "import pandas as pd # data processing, CSV file I/O (e.g. pd.read_csv)\n",
    "from sklearn.model_selection import train_test_split\n",
    "from sklearn.neighbors import KNeighborsClassifier\n",
    "from sklearn.linear_model import LogisticRegression\n",
    "from sklearn.svm import LinearSVC\n",
    "from sklearn.tree import DecisionTreeClassifier\n",
    "from sklearn.ensemble import RandomForestClassifier, GradientBoostingClassifier\n",
    "from sklearn.preprocessing import MinMaxScaler\n",
    "\n",
    "import matplotlib.pyplot as plt\n",
    "\n",
    "%matplotlib inline"
   ]
  },
  {
   "cell_type": "code",
   "execution_count": 17,
   "id": "c3e80512",
   "metadata": {},
   "outputs": [
    {
     "name": "stdout",
     "output_type": "stream",
     "text": [
      "train score - 0.4914175197100381\n",
      "test score - 0.4901320309279638\n"
     ]
    }
   ],
   "source": [
    "%time\n",
    "lr1 = LogisticRegression(random_state=0).fit(X_train, y_train)\n",
    "print(\"train score - \" + str(lr1.score(X_train, y_train)))\n",
    "print(\"test score - \" + str(lr1.score(X_test, y_test)))"
   ]
  },
  {
   "cell_type": "code",
   "execution_count": 18,
   "id": "3eb75279",
   "metadata": {},
   "outputs": [
    {
     "name": "stdout",
     "output_type": "stream",
     "text": [
      "train score - 0.48542383608243345\n",
      "test score - 0.4855540427445445\n"
     ]
    }
   ],
   "source": [
    "%time\n",
    "svc = LinearSVC(random_state=0).fit(X_train,y_train)\n",
    "print(\"train score - \" + str(svc.score(X_train, y_train)))\n",
    "print(\"test score - \" + str(svc.score(X_test, y_test)))"
   ]
  },
  {
   "cell_type": "code",
   "execution_count": 19,
   "id": "76d13a94",
   "metadata": {},
   "outputs": [
    {
     "name": "stdout",
     "output_type": "stream",
     "text": [
      "train score - 0.9872215247981113\n",
      "test score - 0.6728455975117729\n"
     ]
    }
   ],
   "source": [
    "%time\n",
    "forest = RandomForestClassifier(n_estimators=10, random_state=0).fit(X_train, y_train)\n",
    "print(\"train score - \" + str(forest.score(X_train, y_train)))\n",
    "print(\"test score - \" + str(forest.score(X_test, y_test)))"
   ]
  },
  {
   "cell_type": "code",
   "execution_count": 20,
   "id": "f71b42f5",
   "metadata": {},
   "outputs": [
    {
     "name": "stdout",
     "output_type": "stream",
     "text": [
      "train score - 0.5317057328261915\n",
      "test score - 0.5295789250159262\n"
     ]
    }
   ],
   "source": [
    "%time\n",
    "gb = GradientBoostingClassifier().fit(X_train, y_train)\n",
    "print(\"train score - \" + str(gb.score(X_train, y_train)))\n",
    "print(\"test score - \" + str(gb.score(X_test, y_test)))"
   ]
  },
  {
   "cell_type": "code",
   "execution_count": 22,
   "id": "5a1adcba",
   "metadata": {},
   "outputs": [
    {
     "name": "stdout",
     "output_type": "stream",
     "text": [
      "CPU times: user 6 µs, sys: 0 ns, total: 6 µs\n",
      "Wall time: 10 µs\n",
      "train score - 0.7625260493110074\n",
      "test score - 0.6592740172627003\n"
     ]
    }
   ],
   "source": [
    "%time\n",
    "knr = KNeighborsClassifier(n_neighbors=6).fit(X_train, y_train)\n",
    "print(\"train score - \" + str(knr.score(X_train, y_train)))\n",
    "print(\"test score - \" + str(knr.score(X_test, y_test)))"
   ]
  },
  {
   "cell_type": "code",
   "execution_count": 31,
   "id": "02d32449",
   "metadata": {},
   "outputs": [
    {
     "name": "stdout",
     "output_type": "stream",
     "text": [
      "CPU times: user 4 µs, sys: 0 ns, total: 4 µs\n",
      "Wall time: 7.39 µs\n"
     ]
    },
    {
     "data": {
      "text/plain": [
       "array([1])"
      ]
     },
     "execution_count": 31,
     "metadata": {},
     "output_type": "execute_result"
    }
   ],
   "source": [
    "%time\n",
    "forest.predict([[0.001,0.003,0.003]])"
   ]
  },
  {
   "cell_type": "code",
   "execution_count": 32,
   "id": "86926eb5",
   "metadata": {},
   "outputs": [
    {
     "name": "stdout",
     "output_type": "stream",
     "text": [
      "CPU times: user 8 µs, sys: 0 ns, total: 8 µs\n",
      "Wall time: 15.7 µs\n"
     ]
    },
    {
     "data": {
      "text/plain": [
       "array([1])"
      ]
     },
     "execution_count": 32,
     "metadata": {},
     "output_type": "execute_result"
    }
   ],
   "source": [
    "%time\n",
    "knr.predict([[0.001,0.1,0.0]])"
   ]
  },
  {
   "cell_type": "code",
   "execution_count": 33,
   "id": "41074c06",
   "metadata": {},
   "outputs": [
    {
     "data": {
      "text/html": [
       "<div>\n",
       "<style scoped>\n",
       "    .dataframe tbody tr th:only-of-type {\n",
       "        vertical-align: middle;\n",
       "    }\n",
       "\n",
       "    .dataframe tbody tr th {\n",
       "        vertical-align: top;\n",
       "    }\n",
       "\n",
       "    .dataframe thead th {\n",
       "        text-align: right;\n",
       "    }\n",
       "</style>\n",
       "<table border=\"1\" class=\"dataframe\">\n",
       "  <thead>\n",
       "    <tr style=\"text-align: right;\">\n",
       "      <th></th>\n",
       "      <th>close_percentage_change</th>\n",
       "      <th>high_percentage_change</th>\n",
       "      <th>low_percentage_change</th>\n",
       "    </tr>\n",
       "  </thead>\n",
       "  <tbody>\n",
       "    <tr>\n",
       "      <th>0</th>\n",
       "      <td>-0.000061</td>\n",
       "      <td>0.000000</td>\n",
       "      <td>-0.000369</td>\n",
       "    </tr>\n",
       "    <tr>\n",
       "      <th>1</th>\n",
       "      <td>0.000660</td>\n",
       "      <td>0.000599</td>\n",
       "      <td>0.000393</td>\n",
       "    </tr>\n",
       "    <tr>\n",
       "      <th>2</th>\n",
       "      <td>-0.000559</td>\n",
       "      <td>0.000048</td>\n",
       "      <td>-0.000043</td>\n",
       "    </tr>\n",
       "    <tr>\n",
       "      <th>3</th>\n",
       "      <td>0.000616</td>\n",
       "      <td>0.000008</td>\n",
       "      <td>0.000760</td>\n",
       "    </tr>\n",
       "    <tr>\n",
       "      <th>4</th>\n",
       "      <td>0.000095</td>\n",
       "      <td>0.000095</td>\n",
       "      <td>-0.000535</td>\n",
       "    </tr>\n",
       "    <tr>\n",
       "      <th>...</th>\n",
       "      <td>...</td>\n",
       "      <td>...</td>\n",
       "      <td>...</td>\n",
       "    </tr>\n",
       "    <tr>\n",
       "      <th>640448</th>\n",
       "      <td>0.000061</td>\n",
       "      <td>0.000587</td>\n",
       "      <td>0.000265</td>\n",
       "    </tr>\n",
       "    <tr>\n",
       "      <th>640449</th>\n",
       "      <td>0.000018</td>\n",
       "      <td>0.000018</td>\n",
       "      <td>-0.000374</td>\n",
       "    </tr>\n",
       "    <tr>\n",
       "      <th>640450</th>\n",
       "      <td>0.000425</td>\n",
       "      <td>0.000973</td>\n",
       "      <td>0.001929</td>\n",
       "    </tr>\n",
       "    <tr>\n",
       "      <th>640451</th>\n",
       "      <td>0.000672</td>\n",
       "      <td>0.001340</td>\n",
       "      <td>-0.000233</td>\n",
       "    </tr>\n",
       "    <tr>\n",
       "      <th>640452</th>\n",
       "      <td>0.003501</td>\n",
       "      <td>0.004322</td>\n",
       "      <td>0.004114</td>\n",
       "    </tr>\n",
       "  </tbody>\n",
       "</table>\n",
       "<p>640453 rows × 3 columns</p>\n",
       "</div>"
      ],
      "text/plain": [
       "        close_percentage_change  high_percentage_change  low_percentage_change\n",
       "0                     -0.000061                0.000000              -0.000369\n",
       "1                      0.000660                0.000599               0.000393\n",
       "2                     -0.000559                0.000048              -0.000043\n",
       "3                      0.000616                0.000008               0.000760\n",
       "4                      0.000095                0.000095              -0.000535\n",
       "...                         ...                     ...                    ...\n",
       "640448                 0.000061                0.000587               0.000265\n",
       "640449                 0.000018                0.000018              -0.000374\n",
       "640450                 0.000425                0.000973               0.001929\n",
       "640451                 0.000672                0.001340              -0.000233\n",
       "640452                 0.003501                0.004322               0.004114\n",
       "\n",
       "[640453 rows x 3 columns]"
      ]
     },
     "execution_count": 33,
     "metadata": {},
     "output_type": "execute_result"
    }
   ],
   "source": [
    "\n",
    "from sklearn.neighbors import KNeighborsClassifier\n",
    "neigh = KNeighborsClassifier(n_neighbors=3)\n",
    "neigh.fit(X, y)\n",
    "\n",
    ">>> print(neigh.predict([[1.1]]))\n",
    "[0]\n",
    ">>> print(neigh.predict_proba([[0.9]]))\n",
    "[[0.666... 0.333...]]"
   ]
  },
  {
   "cell_type": "code",
   "execution_count": 35,
   "id": "423f9b15",
   "metadata": {},
   "outputs": [],
   "source": [
    "from sklearn.neighbors import KNeighborsClassifier"
   ]
  },
  {
   "cell_type": "code",
   "execution_count": 36,
   "id": "82e0079c",
   "metadata": {},
   "outputs": [],
   "source": [
    "model_kn = KNeighborsClassifier(n_neighbors=9, leaf_size=20)"
   ]
  },
  {
   "cell_type": "code",
   "execution_count": 37,
   "id": "8fd2cfca",
   "metadata": {},
   "outputs": [
    {
     "data": {
      "text/plain": [
       "KNeighborsClassifier(leaf_size=20, n_neighbors=9)"
      ]
     },
     "execution_count": 37,
     "metadata": {},
     "output_type": "execute_result"
    }
   ],
   "source": [
    "model_kn.fit(X_train, y_train)"
   ]
  },
  {
   "cell_type": "code",
   "execution_count": 38,
   "id": "452b9547",
   "metadata": {},
   "outputs": [],
   "source": [
    "pred_kn = model_kn.predict(X_test)"
   ]
  },
  {
   "cell_type": "code",
   "execution_count": 41,
   "id": "1fa64720",
   "metadata": {},
   "outputs": [
    {
     "name": "stdout",
     "output_type": "stream",
     "text": [
      "              precision    recall  f1-score   support\n",
      "\n",
      "          -1       0.63      0.75      0.68     50562\n",
      "           0       0.64      0.49      0.55     54776\n",
      "           1       0.66      0.70      0.68     54776\n",
      "\n",
      "    accuracy                           0.64    160114\n",
      "   macro avg       0.64      0.64      0.64    160114\n",
      "weighted avg       0.64      0.64      0.64    160114\n",
      "\n"
     ]
    }
   ],
   "source": [
    "from sklearn.metrics import classification_report\n",
    "classes = ['-1','0','1']\n",
    "print(classification_report(y_test, pred_kn, target_names = classes, zero_division = 0))"
   ]
  },
  {
   "cell_type": "markdown",
   "id": "e6825ca3",
   "metadata": {},
   "source": [
    "# final tanitás"
   ]
  },
  {
   "cell_type": "code",
   "execution_count": 10,
   "id": "5f3235b8",
   "metadata": {},
   "outputs": [],
   "source": [
    "from imblearn.combine import SMOTETomek\n",
    "smt = SMOTETomek(random_state=42)\n",
    "X, y = smt.fit_resample(X, y)"
   ]
  },
  {
   "cell_type": "code",
   "execution_count": 11,
   "id": "a18d1962",
   "metadata": {},
   "outputs": [
    {
     "data": {
      "text/plain": [
       "decision\n",
       "-1          202530\n",
       " 1          202303\n",
       " 0          193353\n",
       "dtype: int64"
      ]
     },
     "execution_count": 11,
     "metadata": {},
     "output_type": "execute_result"
    }
   ],
   "source": [
    "y.value_counts()"
   ]
  },
  {
   "cell_type": "code",
   "execution_count": 12,
   "id": "60891077",
   "metadata": {},
   "outputs": [],
   "source": [
    "from sklearn.model_selection import train_test_split\n",
    "X_train, X_test, y_train, y_test = train_test_split(X, y, test_size=0.3, random_state=1) # 70% training and 30% test"
   ]
  },
  {
   "cell_type": "code",
   "execution_count": 20,
   "id": "9fb2e7a3",
   "metadata": {},
   "outputs": [],
   "source": [
    "from sklearn.tree import DecisionTreeClassifier\n",
    "from sklearn.model_selection import GridSearchCV\n",
    "\n",
    "def dtree_grid_search(X,y,nfolds):\n",
    "    #create a dictionary of all values we want to test\n",
    "    tree_param = {'max_depth':[None,4,5,6,7,8,9,10,11,12,15,20],\n",
    "                 'ccp_alpha':[0.001,0.002,0.003,0.05,0.01,0.02]}\n",
    "    # decision tree model\n",
    "    dtree_model=DecisionTreeClassifier()\n",
    "    #use gridsearch to test all values\n",
    "    dtree_gscv = GridSearchCV(dtree_model, tree_param, cv=nfolds, verbose=1)\n",
    "    #fit model to data\n",
    "    dtree_gscv.fit(X, y)\n",
    "    return dtree_gscv.best_params_"
   ]
  },
  {
   "cell_type": "code",
   "execution_count": 22,
   "id": "a3e2cae8",
   "metadata": {},
   "outputs": [
    {
     "name": "stdout",
     "output_type": "stream",
     "text": [
      "Fitting 4 folds for each of 72 candidates, totalling 288 fits\n",
      "CPU times: user 21min 53s, sys: 1.1 s, total: 21min 54s\n",
      "Wall time: 21min 58s\n"
     ]
    },
    {
     "data": {
      "text/plain": [
       "{'ccp_alpha': 0.001, 'max_depth': None}"
      ]
     },
     "execution_count": 22,
     "metadata": {},
     "output_type": "execute_result"
    }
   ],
   "source": [
    "%%time\n",
    "dtree_grid_search(X_train,y_train,4)"
   ]
  },
  {
   "cell_type": "code",
   "execution_count": 26,
   "id": "a1db5917",
   "metadata": {},
   "outputs": [],
   "source": [
    "# Create Decision Tree classifer object\n",
    "clf = DecisionTreeClassifier(max_depth=None,ccp_alpha=0.0001)\n",
    "\n",
    "# Train Decision Tree Classifer\n",
    "clf = clf.fit(X_train,y_train)\n",
    "\n",
    "#Predict the response for test dataset\n",
    "y_pred = clf.predict(X_test)"
   ]
  },
  {
   "cell_type": "code",
   "execution_count": 27,
   "id": "703e74a0",
   "metadata": {},
   "outputs": [
    {
     "name": "stdout",
     "output_type": "stream",
     "text": [
      "              precision    recall  f1-score   support\n",
      "\n",
      "          -1       0.56      0.56      0.56     61001\n",
      "           0       0.50      0.54      0.52     57747\n",
      "           1       0.57      0.53      0.55     60708\n",
      "\n",
      "    accuracy                           0.54    179456\n",
      "   macro avg       0.54      0.54      0.54    179456\n",
      "weighted avg       0.54      0.54      0.54    179456\n",
      "\n"
     ]
    }
   ],
   "source": [
    "from sklearn.metrics import classification_report\n",
    "classes = ['-1','0','1']\n",
    "print(classification_report(y_test, y_pred, target_names = classes, zero_division = 0))"
   ]
  },
  {
   "cell_type": "code",
   "execution_count": 28,
   "id": "deafd801",
   "metadata": {},
   "outputs": [
    {
     "data": {
      "text/plain": [
       "['decisionTree.joblib']"
      ]
     },
     "execution_count": 28,
     "metadata": {},
     "output_type": "execute_result"
    }
   ],
   "source": [
    "import joblib\n",
    "joblib.dump(clf,'decisionTree.joblib')"
   ]
  }
 ],
 "metadata": {
  "kernelspec": {
   "display_name": "Python 3 (ipykernel)",
   "language": "python",
   "name": "python3"
  },
  "language_info": {
   "codemirror_mode": {
    "name": "ipython",
    "version": 3
   },
   "file_extension": ".py",
   "mimetype": "text/x-python",
   "name": "python",
   "nbconvert_exporter": "python",
   "pygments_lexer": "ipython3",
   "version": "3.8.10"
  }
 },
 "nbformat": 4,
 "nbformat_minor": 5
}

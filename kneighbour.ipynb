{
 "cells": [
  {
   "cell_type": "code",
   "execution_count": 61,
   "id": "a66bf3c0",
   "metadata": {},
   "outputs": [
    {
     "name": "stdout",
     "output_type": "stream",
     "text": [
      "Setup Complete\n"
     ]
    }
   ],
   "source": [
    "import pandas as pd\n",
    "pd.plotting.register_matplotlib_converters()\n",
    "import matplotlib.pyplot as plt\n",
    "%matplotlib inline\n",
    "import seaborn as sns\n",
    "import numpy as np\n",
    "import os\n",
    "import warnings\n",
    "warnings.filterwarnings('ignore')\n",
    "print(\"Setup Complete\")\n",
    "from pandas_profiling import ProfileReport\n",
    "from pandas_profiling.utils.cache import cache_file\n",
    "    \n",
    "\n",
    "def classificateWithNumbersThreeTarget(value):\n",
    "    target=0\n",
    "    if(value>=0.0015):\n",
    "        target=1\n",
    "    elif(value<=-0.0015):\n",
    "        target=-1\n",
    "    else:\n",
    "        target=0\n",
    "    return target\n",
    "\n",
    "\n",
    "\n",
    "\n",
    "def correlation_heatmap(df):\n",
    "    correlations = df.corr()\n",
    "\n",
    "    fig, ax = plt.subplots(figsize=(40,40))\n",
    "    sns.heatmap(correlations, vmax=1.0, center=0, fmt='.2f',\n",
    "                square=True, linewidths=.1, annot=True, cbar_kws={\"shrink\": .7})\n",
    "    sns.set(font_scale=2)\n",
    "    plt.show();\n",
    "\n",
    "def aboveValue(openList,inspectList,df,name):\n",
    "    results=[]\n",
    "    for i in range(len(inspectList)):\n",
    "        if (openList[i]>inspectList[i]):\n",
    "            results.append(1)\n",
    "        else:\n",
    "            results.append(0)\n",
    "    df[name]=results\n",
    "    \n",
    "data1 = pd.read_csv('/home/balazs/Desktop/adathalmazok/btc_2012-2021/btc_split_data_part_06', sep=\",\", header=None)\n",
    "data1.columns = [\"time\", \"open\", \"high\", \"low\",\"close\",\"volume\",'drop1','drop2']\n",
    "\n",
    "data2 = pd.read_csv('/home/balazs/Desktop/adathalmazok/btc_2012-2021/btc_split_data_part_07', sep=\",\", header=None)\n",
    "data2.columns = [\"time\", \"open\", \"high\", \"low\",\"close\",\"volume\",'drop1','drop2']\n",
    "\n",
    "data3 = pd.read_csv('/home/balazs/Desktop/adathalmazok/btc_2012-2021/btc_split_data_part_08', sep=\",\", header=None)\n",
    "data3.columns = [\"time\", \"open\", \"high\", \"low\",\"close\",\"volume\",'drop1','drop2']\n",
    "\n",
    "data4 = pd.read_csv('/home/balazs/Desktop/adathalmazok/btc_2012-2021/btc_split_data_part_09', sep=\",\", header=None)\n",
    "data4.columns = [\"time\", \"open\", \"high\", \"low\",\"close\",\"volume\"]\n",
    "\n",
    "data= pd.concat([data1,data2,data3,data4], axis=0)\n",
    "#data\n",
    "\n",
    "#data=data4\n",
    "\n",
    "data_test = pd.read_csv('/home/balazs/Desktop/adathalmazok/1weekMinedData.txt', sep=\";\", header=None)\n",
    "data_test.columns = [\"time\", \"open\", \"high\", \"low\",\"close\",\"volume\",'temp1','temp2']\n",
    "\n",
    "#data=data[['time','open','high','low','close','volume']]\n",
    "#data=data.dropna()\n",
    "#data=data[4000:]\n",
    "    "
   ]
  },
  {
   "cell_type": "code",
   "execution_count": 62,
   "id": "f88ffb48",
   "metadata": {},
   "outputs": [
    {
     "name": "stdout",
     "output_type": "stream",
     "text": [
      "CPU times: user 44.5 s, sys: 672 ms, total: 45.1 s\n",
      "Wall time: 45.2 s\n"
     ]
    }
   ],
   "source": [
    "%%time\n",
    "#btc_data = pd.read_csv(r\"/home/balazs/Desktop/szakdoga_info/btc_data.csv\")\n",
    "#data = btc_data.dropna()\n",
    "data['MA5']=data['open'].rolling(window =5).mean()\n",
    "data['EMA5']=data['open'].ewm(span=5,min_periods=0,adjust=False,ignore_na=False).mean()\n",
    "data['CMA']=data.open.expanding().mean()\n",
    "data['open_percentage_change']=data.open.pct_change()\n",
    "data['close_percentage_change']=data.close.pct_change()\n",
    "data['high_percentage_change']=data.high.pct_change()\n",
    "data['low_percentage_change']=data.low.pct_change()\n",
    "data['volume_percentage_change']=data.volume.pct_change()\n",
    "lista=[]\n",
    "for i in range(len(data.open_percentage_change.values)-5):\n",
    "        value=data.open_percentage_change.values[i+1]+data.open_percentage_change.values[i+2]+data.open_percentage_change.values[i+3]+data.open_percentage_change.values[i+4]+data.open_percentage_change.values[i+5]\n",
    "        lista.append(value)\n",
    "for i in range(5):\n",
    "    lista.append(0)\n",
    "data['profit']=lista\n",
    "buy_sell_list=[classificateWithNumbersThreeTarget(elem) for elem in data.profit]\n",
    "data['decision']=buy_sell_list\n",
    "data=data.dropna()\n",
    "data.drop(data.tail(5).index,inplace=True) # drop last n rows\n",
    "aboveValue(data.open.values,data.MA5.values,data,'aboveMA5')\n",
    "aboveValue(data.open.values,data.EMA5.values,data,'aboveEMA5')\n",
    "aboveValue(data.open.values,data.CMA.values,data,'aboveCMA')"
   ]
  },
  {
   "cell_type": "code",
   "execution_count": 63,
   "id": "b0325a7c",
   "metadata": {},
   "outputs": [],
   "source": [
    "X=data[['close_percentage_change','high_percentage_change','low_percentage_change']]\n",
    "y=data[['decision']]"
   ]
  },
  {
   "cell_type": "code",
   "execution_count": 64,
   "id": "1a5afebf",
   "metadata": {},
   "outputs": [],
   "source": [
    "from imblearn.combine import SMOTETomek\n",
    "smt = SMOTETomek(random_state=42)\n",
    "X, y = smt.fit_resample(X, y)"
   ]
  },
  {
   "cell_type": "code",
   "execution_count": 65,
   "id": "db053260",
   "metadata": {},
   "outputs": [
    {
     "data": {
      "text/plain": [
       "decision\n",
       "-1          800074\n",
       " 1          799442\n",
       " 0          761326\n",
       "dtype: int64"
      ]
     },
     "execution_count": 65,
     "metadata": {},
     "output_type": "execute_result"
    }
   ],
   "source": [
    "y.value_counts()"
   ]
  },
  {
   "cell_type": "code",
   "execution_count": 66,
   "id": "efad2a34",
   "metadata": {},
   "outputs": [],
   "source": [
    "from sklearn.model_selection import train_test_split\n",
    "X_train, X_test, y_train, y_test = train_test_split(X, y, test_size=0.3, random_state=1) # 70% training and 30% test"
   ]
  },
  {
   "cell_type": "code",
   "execution_count": 67,
   "id": "f4863a99",
   "metadata": {},
   "outputs": [],
   "source": [
    "from sklearn.neighbors import KNeighborsClassifier"
   ]
  },
  {
   "cell_type": "code",
   "execution_count": 22,
   "id": "a5641395",
   "metadata": {},
   "outputs": [],
   "source": [
    "model_kn = KNeighborsClassifier(n_neighbors=9, leaf_size=20)"
   ]
  },
  {
   "cell_type": "code",
   "execution_count": 23,
   "id": "7ef54136",
   "metadata": {},
   "outputs": [
    {
     "data": {
      "text/plain": [
       "KNeighborsClassifier(leaf_size=20, n_neighbors=9)"
      ]
     },
     "execution_count": 23,
     "metadata": {},
     "output_type": "execute_result"
    }
   ],
   "source": [
    "model_kn.fit(X_train, y_train)"
   ]
  },
  {
   "cell_type": "code",
   "execution_count": 24,
   "id": "eaf8bebc",
   "metadata": {},
   "outputs": [],
   "source": [
    "pred_kn = model_kn.predict(X_test)"
   ]
  },
  {
   "cell_type": "code",
   "execution_count": 25,
   "id": "8ae0e952",
   "metadata": {},
   "outputs": [
    {
     "name": "stdout",
     "output_type": "stream",
     "text": [
      "              precision    recall  f1-score   support\n",
      "\n",
      "          -1       0.64      0.76      0.69     61001\n",
      "           0       0.64      0.49      0.55     57747\n",
      "           1       0.67      0.70      0.69     60708\n",
      "\n",
      "    accuracy                           0.65    179456\n",
      "   macro avg       0.65      0.65      0.64    179456\n",
      "weighted avg       0.65      0.65      0.65    179456\n",
      "\n"
     ]
    }
   ],
   "source": [
    "from sklearn.metrics import classification_report\n",
    "classes = ['-1','0','1']\n",
    "print(classification_report(y_test, pred_kn, target_names = classes, zero_division = 0))"
   ]
  },
  {
   "cell_type": "code",
   "execution_count": 32,
   "id": "9cd09dae",
   "metadata": {},
   "outputs": [],
   "source": [
    "from sklearn.model_selection import GridSearchCV\n",
    "estimator_KNN = KNeighborsClassifier(algorithm='auto')\n",
    "\n",
    "                   \n"
   ]
  },
  {
   "cell_type": "code",
   "execution_count": 44,
   "id": "fa64bbf8",
   "metadata": {},
   "outputs": [
    {
     "name": "stdout",
     "output_type": "stream",
     "text": [
      "Fitting 5 folds for each of 56 candidates, totalling 280 fits\n"
     ]
    }
   ],
   "source": [
    "knn = KNeighborsClassifier()\n",
    "from sklearn.model_selection import GridSearchCV\n",
    "parameters_KNN = {\n",
    "    'n_neighbors': (1,5,6,7,8,9,10),\n",
    "    'leaf_size': (20,30,40,50),\n",
    "    'p': (1,2)}\n",
    "  \n",
    "grid = GridSearchCV(knn, parameters_KNN, scoring='f1', return_train_score=False,verbose=1)\n",
    "  \n",
    "# fitting the model for grid search\n",
    "grid_search=grid.fit(X_train, y_train)"
   ]
  },
  {
   "cell_type": "code",
   "execution_count": 45,
   "id": "a70a8a5a",
   "metadata": {},
   "outputs": [
    {
     "name": "stdout",
     "output_type": "stream",
     "text": [
      "{'leaf_size': 20, 'n_neighbors': 1, 'p': 1}\n"
     ]
    }
   ],
   "source": [
    "print(grid_search.best_params_)"
   ]
  },
  {
   "cell_type": "code",
   "execution_count": 68,
   "id": "b30b080d",
   "metadata": {},
   "outputs": [],
   "source": [
    "model_kn = KNeighborsClassifier(n_neighbors=1, leaf_size=20,p=1)"
   ]
  },
  {
   "cell_type": "code",
   "execution_count": 69,
   "id": "d897f46f",
   "metadata": {},
   "outputs": [
    {
     "data": {
      "text/plain": [
       "KNeighborsClassifier(leaf_size=20, n_neighbors=1, p=1)"
      ]
     },
     "execution_count": 69,
     "metadata": {},
     "output_type": "execute_result"
    }
   ],
   "source": [
    "model_kn.fit(X_train, y_train)"
   ]
  },
  {
   "cell_type": "code",
   "execution_count": 70,
   "id": "4e82b3ac",
   "metadata": {},
   "outputs": [],
   "source": [
    "pred_kn = model_kn.predict(X_test)"
   ]
  },
  {
   "cell_type": "code",
   "execution_count": 71,
   "id": "de30132e",
   "metadata": {},
   "outputs": [
    {
     "name": "stdout",
     "output_type": "stream",
     "text": [
      "              precision    recall  f1-score   support\n",
      "\n",
      "          -1       0.78      0.87      0.82    240231\n",
      "           0       0.79      0.62      0.69    227961\n",
      "           1       0.78      0.87      0.82    240061\n",
      "\n",
      "    accuracy                           0.79    708253\n",
      "   macro avg       0.79      0.78      0.78    708253\n",
      "weighted avg       0.79      0.79      0.78    708253\n",
      "\n"
     ]
    }
   ],
   "source": [
    "from sklearn.metrics import classification_report\n",
    "classes = ['-1','0','1']\n",
    "print(classification_report(y_test, pred_kn, target_names = classes, zero_division = 0))"
   ]
  },
  {
   "cell_type": "code",
   "execution_count": 72,
   "id": "dc508c39",
   "metadata": {},
   "outputs": [
    {
     "data": {
      "text/plain": [
       "['knear.joblib']"
      ]
     },
     "execution_count": 72,
     "metadata": {},
     "output_type": "execute_result"
    }
   ],
   "source": [
    "import joblib\n",
    "joblib.dump(model_kn,'knear.joblib')"
   ]
  },
  {
   "cell_type": "code",
   "execution_count": null,
   "id": "698005ba",
   "metadata": {},
   "outputs": [],
   "source": []
  }
 ],
 "metadata": {
  "kernelspec": {
   "display_name": "Python 3 (ipykernel)",
   "language": "python",
   "name": "python3"
  },
  "language_info": {
   "codemirror_mode": {
    "name": "ipython",
    "version": 3
   },
   "file_extension": ".py",
   "mimetype": "text/x-python",
   "name": "python",
   "nbconvert_exporter": "python",
   "pygments_lexer": "ipython3",
   "version": "3.8.10"
  }
 },
 "nbformat": 4,
 "nbformat_minor": 5
}

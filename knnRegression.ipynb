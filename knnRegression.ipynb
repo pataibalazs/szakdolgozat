{
 "cells": [
  {
   "cell_type": "code",
   "execution_count": 1,
   "id": "835ec854",
   "metadata": {},
   "outputs": [
    {
     "name": "stdout",
     "output_type": "stream",
     "text": [
      "Setup Complete\n"
     ]
    },
    {
     "name": "stderr",
     "output_type": "stream",
     "text": [
      "2021-12-06 00:01:50.549652: W tensorflow/stream_executor/platform/default/dso_loader.cc:64] Could not load dynamic library 'libcudart.so.11.0'; dlerror: libcudart.so.11.0: cannot open shared object file: No such file or directory\n",
      "2021-12-06 00:01:50.549672: I tensorflow/stream_executor/cuda/cudart_stub.cc:29] Ignore above cudart dlerror if you do not have a GPU set up on your machine.\n"
     ]
    }
   ],
   "source": [
    "import pandas as pd\n",
    "import matplotlib.pyplot as plt\n",
    "from sklearn.model_selection import train_test_split\n",
    "from sklearn.linear_model import LinearRegression\n",
    "import numpy as np\n",
    "from sklearn.tree import DecisionTreeRegressor\n",
    "import matplotlib.pyplot as plt\n",
    "\n",
    "def my_round(szam,erzekenyseg):\n",
    "    if(szam<0 and szam<-(erzekenyseg)):\n",
    "        return -1\n",
    "    elif(szam>0 and szam>erzekenyseg):\n",
    "        return 1\n",
    "    else:\n",
    "        return 0\n",
    "            \n",
    "\n",
    "def classificateWithNumbersThreeTarget(value):\n",
    "    target=0\n",
    "    if(value>=0.0015):\n",
    "        target=1\n",
    "    elif(value<=-0.0015):\n",
    "        target=-1\n",
    "    else:\n",
    "        target=0\n",
    "    return target\n",
    "\n",
    "\n",
    "def split_sequence_modified(sequence, n_steps_in):\n",
    "    X, y = list(), list()\n",
    "    for i in range(len(sequence)):\n",
    "        # find the end of this pattern\n",
    "        end_ix = i + n_steps_in\n",
    "        # check if we are beyond the sequence\n",
    "        if end_ix+5 > len(sequence):\n",
    "            break\n",
    "        # gather input and output parts of the pattern\n",
    "        seq_x, seq_y = sequence[i:end_ix], sum(sequence[end_ix:end_ix+5])\n",
    "        X.append(seq_x)\n",
    "        y.append(seq_y)\n",
    "    return array(X), array(y)\n",
    "\n",
    "def graph(test_y,yhat,mennyiseg):\n",
    "    valos=test_y[:mennyiseg]\n",
    "    predikt=yhat[:mennyiseg]\n",
    "    valos = pd.DataFrame(valos, columns=['Real'])\n",
    "    predikt = pd.DataFrame(predikt, columns=['Predicted'])\n",
    "    merge=valos.join(predikt)\n",
    "    \n",
    "    plt.figure(figsize=(30,20))\n",
    "    sns.lineplot(data=merge, linewidth=3)\n",
    "    plt.show()\n",
    "\n",
    "def correlation_heatmap(df):\n",
    "    import matplotlib.pyplot as plt\n",
    "    correlations = df.corr()\n",
    "\n",
    "    fig, ax = plt.subplots(figsize=(40,40))\n",
    "    sns.heatmap(correlations, vmax=1.0, center=0, fmt='.2f',\n",
    "                square=True, linewidths=.1, annot=True, cbar_kws={\"shrink\": .7})\n",
    "    sns.set(font_scale=2)\n",
    "    plt.show();\n",
    "    \n",
    "    \n",
    "    \n",
    "from sklearn.preprocessing import MinMaxScaler\n",
    "from sklearn.metrics import mean_squared_error\n",
    "def mean_absolute_percentage_error(y_true, y_pred): \n",
    "    y_true, y_pred = np.array(y_true), np.array(y_pred)\n",
    "    return np.mean(np.abs((y_true - y_pred) / y_true)) * 100\n",
    "\n",
    "def metrikak(y_true,y_pred):\n",
    "    print(mean_squared_error(y_true,y_pred))\n",
    "    print(mean_absolute_percentage_error(y_true,y_pred))\n",
    "from numpy import hstack\n",
    "import array\n",
    "from numpy import array\n",
    "import pandas as pd\n",
    "pd.plotting.register_matplotlib_converters()\n",
    "import matplotlib.pyplot as plt\n",
    "%matplotlib inline\n",
    "import seaborn as sns\n",
    "import numpy as np\n",
    "import os\n",
    "import warnings\n",
    "warnings.filterwarnings('ignore')\n",
    "print(\"Setup Complete\")\n",
    "from pandas_profiling import ProfileReport\n",
    "from pandas_profiling.utils.cache import cache_file\n",
    "import tensorflow as tf\n",
    "from keras.models import Sequential\n",
    "from keras.layers import LSTM\n",
    "from keras.layers import Dense\n",
    "\n",
    "def percentChange(lastValue,secondLastValue):\n",
    "        return round((float(lastValue)-secondLastValue)/abs(secondLastValue),6)\n",
    "\n",
    "\n",
    "def kirajzoltatas(yhat,test_y):\n",
    "    yhat = pd.DataFrame(yhat, columns=['Predicted'])\n",
    "    test_y2 = pd.DataFrame(test_y, columns=['Real'])\n",
    "    merge=test_y2.join(yhat)\n",
    "\n",
    "    import seaborn as sns\n",
    "    import matplotlib.pyplot as plt\n",
    "\n",
    "    plt.figure(figsize=(30,20))\n",
    "    sns.lineplot(data=merge[:1000], linewidth=3)\n",
    "    plt.show()\n",
    "\n",
    "# split a univariate sequence into samples\n",
    "def split_sequence(sequence, n_steps):\n",
    "\tX, y = list(), list()\n",
    "\tfor i in range(len(sequence)):\n",
    "\t\t# find the end of this pattern\n",
    "\t\tend_ix = i + n_steps\n",
    "\t\t# check if we are beyond the sequence\n",
    "\t\tif end_ix > len(sequence)-1:\n",
    "\t\t\tbreak\n",
    "\t\t# gather input and output parts of the pattern\n",
    "\t\tseq_x, seq_y = sequence[i:end_ix], sequence[end_ix]\n",
    "\t\tX.append(seq_x)\n",
    "\t\ty.append(seq_y)\n",
    "\treturn array(X), array(y)\n",
    "\n",
    "\n",
    "\n",
    "tf.keras.callbacks.EarlyStopping(\n",
    "    monitor=\"val_loss\",\n",
    "    min_delta=0,\n",
    "    patience=0,\n",
    "    verbose=0,\n",
    "    mode=\"auto\",\n",
    "    baseline=None,\n",
    "    restore_best_weights=False,\n",
    ")\n",
    "    \n",
    "data1 = pd.read_csv('/home/balazs/Desktop/adathalmazok/btc_2012-2021/btc_split_data_part_06', sep=\",\", header=None)\n",
    "data1.columns = [\"time\", \"open\", \"high\", \"low\",\"close\",\"volume\",'drop1','drop2']\n",
    "\n",
    "data2 = pd.read_csv('/home/balazs/Desktop/adathalmazok/btc_2012-2021/btc_split_data_part_07', sep=\",\", header=None)\n",
    "data2.columns = [\"time\", \"open\", \"high\", \"low\",\"close\",\"volume\",'drop1','drop2']\n",
    "\n",
    "data3 = pd.read_csv('/home/balazs/Desktop/adathalmazok/btc_2012-2021/btc_split_data_part_08', sep=\",\", header=None)\n",
    "data3.columns = [\"time\", \"open\", \"high\", \"low\",\"close\",\"volume\",'drop1','drop2']\n",
    "\n",
    "data4 = pd.read_csv('/home/balazs/Desktop/adathalmazok/btc_2012-2021/btc_split_data_part_09', sep=\",\", header=None)\n",
    "data4.columns = [\"time\", \"open\", \"high\", \"low\",\"close\",\"volume\"]\n",
    "\n",
    "data= pd.concat([data1,data2,data3,data4], axis=0)\n",
    "data=data4.dropna()\n",
    "data=data4[['time','open','high','low','close','volume']]\n",
    "data=data.dropna()\n",
    "#data\n",
    "\n",
    "#data=data4"
   ]
  },
  {
   "cell_type": "code",
   "execution_count": 2,
   "id": "d1dc4a79",
   "metadata": {},
   "outputs": [
    {
     "name": "stdout",
     "output_type": "stream",
     "text": [
      "CPU times: user 14.6 s, sys: 155 ms, total: 14.8 s\n",
      "Wall time: 14.9 s\n"
     ]
    }
   ],
   "source": [
    "%%time\n",
    "#btc_data = pd.read_csv(r\"/home/balazs/Desktop/szakdoga_info/btc_data.csv\")\n",
    "#data = btc_data.dropna()\n",
    "data['MA5']=data['open'].rolling(window =5).mean()\n",
    "data['EMA5']=data['open'].ewm(span=5,min_periods=0,adjust=False,ignore_na=False).mean()\n",
    "data['CMA']=data.open.expanding().mean()\n",
    "data['open_percentage_change']=data.open.pct_change()\n",
    "data['close_percentage_change']=data.close.pct_change()\n",
    "data['high_percentage_change']=data.high.pct_change()\n",
    "data['low_percentage_change']=data.low.pct_change()\n",
    "data['volume_percentage_change']=data.volume.pct_change()\n",
    "lista=[]\n",
    "for i in range(len(data.open_percentage_change.values)-5):\n",
    "        value=data.open_percentage_change.values[i+1]+data.open_percentage_change.values[i+2]+data.open_percentage_change.values[i+3]+data.open_percentage_change.values[i+4]+data.open_percentage_change.values[i+5]\n",
    "        lista.append(value)\n",
    "for i in range(5):\n",
    "    lista.append(0)\n",
    "data['profit']=lista\n",
    "buy_sell_list=[classificateWithNumbersThreeTarget(elem) for elem in data.profit]\n",
    "data['decision']=buy_sell_list\n",
    "data=data.dropna()\n",
    "data.drop(data.tail(5).index,inplace=True) # drop last n rows\n",
    "X=data[['close_percentage_change','high_percentage_change','low_percentage_change']]\n",
    "y=data[['decision']]\n",
    "from imblearn.over_sampling import SMOTE\n",
    "\n",
    "from imblearn.combine import SMOTETomek\n",
    "smt = SMOTETomek(random_state=42)\n",
    "X, y = smt.fit_resample(X, y)"
   ]
  },
  {
   "cell_type": "code",
   "execution_count": 3,
   "id": "7defccd1",
   "metadata": {},
   "outputs": [],
   "source": [
    "correlation_heatmap(data)"
   ]
  },
  {
   "cell_type": "code",
   "execution_count": null,
   "id": "2842faff",
   "metadata": {},
   "outputs": [],
   "source": []
  },
  {
   "cell_type": "code",
   "execution_count": 4,
   "id": "9804f169",
   "metadata": {},
   "outputs": [
    {
     "data": {
      "text/plain": [
       "-1    207900\n",
       " 1    207730\n",
       " 0    198379\n",
       "Name: decision, dtype: int64"
      ]
     },
     "execution_count": 4,
     "metadata": {},
     "output_type": "execute_result"
    }
   ],
   "source": [
    "y.decision.value_counts()"
   ]
  },
  {
   "cell_type": "code",
   "execution_count": 5,
   "id": "4ba33460",
   "metadata": {},
   "outputs": [],
   "source": [
    "x_train, x_test, y_train, y_test = train_test_split(\n",
    "X[['close_percentage_change','high_percentage_change','low_percentage_change']],\n",
    "y['decision'],\n",
    "test_size = 0.3\n",
    ")"
   ]
  },
  {
   "cell_type": "code",
   "execution_count": 6,
   "id": "6d36677e",
   "metadata": {},
   "outputs": [
    {
     "data": {
      "text/plain": [
       "KNeighborsRegressor(n_neighbors=400)"
      ]
     },
     "execution_count": 6,
     "metadata": {},
     "output_type": "execute_result"
    }
   ],
   "source": [
    "from sklearn import neighbors\n",
    "n_neighbors=400\n",
    "knn=neighbors.KNeighborsRegressor(n_neighbors,weights='uniform')\n",
    "knn.fit(x_train,y_train)"
   ]
  },
  {
   "cell_type": "code",
   "execution_count": 7,
   "id": "f6c6d2ac",
   "metadata": {},
   "outputs": [
    {
     "name": "stdout",
     "output_type": "stream",
     "text": [
      "              precision    recall  f1-score   support\n",
      "\n",
      "          -1       0.59      0.48      0.53     62533\n",
      "           0       0.43      0.63      0.51     59230\n",
      "           1       0.61      0.46      0.53     62440\n",
      "\n",
      "    accuracy                           0.52    184203\n",
      "   macro avg       0.54      0.52      0.52    184203\n",
      "weighted avg       0.55      0.52      0.52    184203\n",
      "\n"
     ]
    }
   ],
   "source": [
    "preds=knn.predict(x_test)\n",
    "joslat=[my_round(elem,0.2) for elem in preds]\n",
    "from sklearn.metrics import classification_report\n",
    "classes = ['-1','0','1']\n",
    "print(classification_report(y_test, joslat, target_names = classes, zero_division = 0))\n"
   ]
  },
  {
   "cell_type": "code",
   "execution_count": 8,
   "id": "874ee2bb",
   "metadata": {},
   "outputs": [
    {
     "data": {
      "text/plain": [
       "35751     0\n",
       "234184   -1\n",
       "263501    1\n",
       "157073    1\n",
       "153800    0\n",
       "         ..\n",
       "288360    1\n",
       "402317   -1\n",
       "80734     0\n",
       "341415   -1\n",
       "91565     0\n",
       "Name: decision, Length: 184203, dtype: int64"
      ]
     },
     "execution_count": 8,
     "metadata": {},
     "output_type": "execute_result"
    }
   ],
   "source": [
    "y_test"
   ]
  },
  {
   "cell_type": "code",
   "execution_count": 9,
   "id": "269fa24b",
   "metadata": {},
   "outputs": [],
   "source": [
    "graph(y_test.values,joslat,100)"
   ]
  },
  {
   "cell_type": "markdown",
   "id": "16f026cc",
   "metadata": {},
   "source": [
    "# gridsearcv"
   ]
  },
  {
   "cell_type": "code",
   "execution_count": 12,
   "id": "f825d5c8",
   "metadata": {},
   "outputs": [],
   "source": [
    "#k_range = [1,2,3,4,5,6,7,8,9,10,20,100,150,200,250,300,350]\n",
    "k_range=[1,350]\n",
    "weight_options = [\"uniform\", \"distance\"]\n",
    "\n",
    "param_grid = dict(n_neighbors = k_range, weights = weight_options)\n",
    "knn = neighbors.KNeighborsRegressor()"
   ]
  },
  {
   "cell_type": "code",
   "execution_count": 13,
   "id": "e893ada3",
   "metadata": {},
   "outputs": [],
   "source": [
    "from sklearn.metrics import f1_score\n",
    "lista=[]\n",
    "for neigh in k_range:\n",
    "    for weight in weight_options:\n",
    "        knn=neighbors.KNeighborsRegressor(n_neighbors=neigh,weights=weight)\n",
    "        knn.fit(x_train,y_train)\n",
    "        preds=knn.predict(x_test)\n",
    "        joslat=[my_round(elem,0.2) for elem in preds]\n",
    "        val1=f1_score(y_test, joslat, average=None)[0]\n",
    "        val2=f1_score(y_test, joslat, average=None)[1]\n",
    "        val3=f1_score(y_test, joslat, average=None)[2]\n",
    "        elem=((val1+val2+val3)/3,neigh,weight)\n",
    "        lista.append(elem)\n",
    "        "
   ]
  },
  {
   "cell_type": "code",
   "execution_count": 14,
   "id": "f7d16ff6",
   "metadata": {},
   "outputs": [
    {
     "data": {
      "text/plain": [
       "[(0.7869955344593501, 1, 'uniform'),\n",
       " (0.7869955344593501, 1, 'distance'),\n",
       " (0.5214826182578479, 350, 'uniform'),\n",
       " (0.585756340516911, 350, 'distance')]"
      ]
     },
     "execution_count": 14,
     "metadata": {},
     "output_type": "execute_result"
    }
   ],
   "source": [
    "lista"
   ]
  },
  {
   "cell_type": "markdown",
   "id": "1614118c",
   "metadata": {},
   "source": [
    "# teszt"
   ]
  },
  {
   "cell_type": "code",
   "execution_count": 16,
   "id": "1f127a83",
   "metadata": {},
   "outputs": [],
   "source": [
    "data = pd.read_csv('/home/balazs/Desktop/adathalmazok/correctedDatas.txt', sep=\";\", header=None)\n",
    "data.columns = [\"time\", \"open\", \"high\", \"low\",\"close\",\"volume\",'temp1','temp2']\n",
    "\n",
    "data=data[['time','open','high','low','close','volume']]\n",
    "data=data.dropna()\n",
    "data['MA5']=data['open'].rolling(window =5).mean()\n",
    "data['EMA5']=data['open'].ewm(span=5,min_periods=0,adjust=False,ignore_na=False).mean()\n",
    "data['CMA']=data.open.expanding().mean()\n",
    "data['open_percentage_change']=data.open.pct_change()\n",
    "data['close_percentage_change']=data.close.pct_change()\n",
    "data['high_percentage_change']=data.high.pct_change()\n",
    "data['low_percentage_change']=data.low.pct_change()\n",
    "data['volume_percentage_change']=data.volume.pct_change()\n",
    "lista=[]\n",
    "for i in range(len(data.open_percentage_change.values)-5):\n",
    "        value=data.open_percentage_change.values[i+1]+data.open_percentage_change.values[i+2]+data.open_percentage_change.values[i+3]+data.open_percentage_change.values[i+4]+data.open_percentage_change.values[i+5]\n",
    "        lista.append(value)\n",
    "for i in range(5):\n",
    "    lista.append(0)\n",
    "data['profit']=lista\n",
    "buy_sell_list=[classificateWithNumbersThreeTarget(elem) for elem in data.profit]\n",
    "data['decision']=buy_sell_list\n",
    "data=data.dropna()\n",
    "data.drop(data.tail(5).index,inplace=True) # drop last n rows\n",
    "X=data[['close_percentage_change','high_percentage_change','low_percentage_change']]\n",
    "y=data[['decision']]\n",
    "#from imblearn.combine import SMOTETomek\n",
    "#smt = SMOTETomek(random_state=42)\n",
    "#X, y = smt.fit_resample(X, y)\n",
    "\n",
    "\n",
    "#from imblearn.over_sampling import SMOTE\n",
    "\n",
    "#smote = SMOTE()\n",
    "#X, y = smote.fit_resample(X, y)"
   ]
  },
  {
   "cell_type": "code",
   "execution_count": 17,
   "id": "93e03875",
   "metadata": {},
   "outputs": [
    {
     "name": "stdout",
     "output_type": "stream",
     "text": [
      "              precision    recall  f1-score   support\n",
      "\n",
      "          -1       0.34      0.44      0.38      1045\n",
      "           0       0.77      0.69      0.73      4818\n",
      "           1       0.36      0.42      0.39      1028\n",
      "\n",
      "    accuracy                           0.61      6891\n",
      "   macro avg       0.49      0.52      0.50      6891\n",
      "weighted avg       0.64      0.61      0.62      6891\n",
      "\n"
     ]
    }
   ],
   "source": [
    "from sklearn import neighbors\n",
    "\n",
    "\n",
    "preds=knn.predict(X)\n",
    "joslat=[my_round(elem,0.2) for elem in preds]\n",
    "from sklearn.metrics import classification_report\n",
    "classes = ['-1','0','1']\n",
    "print(classification_report(y, joslat, target_names = classes, zero_division = 0))"
   ]
  },
  {
   "cell_type": "code",
   "execution_count": null,
   "id": "65638eb2",
   "metadata": {},
   "outputs": [],
   "source": [
    "import joblib\n",
    "joblib.dump(knn,'knnRegression.joblib')"
   ]
  }
 ],
 "metadata": {
  "kernelspec": {
   "display_name": "Python 3 (ipykernel)",
   "language": "python",
   "name": "python3"
  },
  "language_info": {
   "codemirror_mode": {
    "name": "ipython",
    "version": 3
   },
   "file_extension": ".py",
   "mimetype": "text/x-python",
   "name": "python",
   "nbconvert_exporter": "python",
   "pygments_lexer": "ipython3",
   "version": "3.8.10"
  }
 },
 "nbformat": 4,
 "nbformat_minor": 5
}

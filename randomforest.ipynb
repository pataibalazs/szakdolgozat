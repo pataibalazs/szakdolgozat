{
 "cells": [
  {
   "cell_type": "code",
   "execution_count": 24,
   "id": "9211e199",
   "metadata": {},
   "outputs": [
    {
     "name": "stdout",
     "output_type": "stream",
     "text": [
      "Setup Complete\n"
     ]
    }
   ],
   "source": [
    "import pandas as pd\n",
    "pd.plotting.register_matplotlib_converters()\n",
    "import matplotlib.pyplot as plt\n",
    "%matplotlib inline\n",
    "import seaborn as sns\n",
    "import numpy as np\n",
    "import os\n",
    "import warnings\n",
    "warnings.filterwarnings('ignore')\n",
    "print(\"Setup Complete\")\n",
    "from pandas_profiling import ProfileReport\n",
    "from pandas_profiling.utils.cache import cache_file"
   ]
  },
  {
   "cell_type": "code",
   "execution_count": 25,
   "id": "de9e48c8",
   "metadata": {},
   "outputs": [],
   "source": [
    "def classificate(value):\n",
    "    target='neutral'\n",
    "    if(value>=0.001 and value<=0.002):\n",
    "        target='buy'\n",
    "    elif(value>=0.002):\n",
    "        target='strong buy'\n",
    "    elif(value<=-0.001 and value>=-0.002):\n",
    "        target='sell'\n",
    "    elif(value<-0.002):\n",
    "        target='strong sell'\n",
    "    return target\n",
    "\n",
    "\n",
    "def classificateWithNumbers(value):\n",
    "    target=0\n",
    "    if(value>=0.001 and value<=0.002):\n",
    "        target=1\n",
    "    elif(value>=0.002):\n",
    "        target=2\n",
    "    elif(value<=-0.001 and value>=-0.002):\n",
    "        target=-1\n",
    "    elif(value<-0.002):\n",
    "        target=-2\n",
    "    return target\n",
    "\n",
    "def classificateWithNumbersThreeTarget(value):\n",
    "    target=0\n",
    "    if(value>=0.0015):\n",
    "        target=1\n",
    "    elif(value<=-0.0015):\n",
    "        target=-1\n",
    "    else:\n",
    "        target=0\n",
    "    return target\n",
    "\n",
    "\n",
    "\n",
    "def classificateWithIncreasingNumbers(value):\n",
    "    target=3\n",
    "    if(value>=0.0015 and value<=0.0025):\n",
    "        target=4\n",
    "    elif(value>=0.0025):\n",
    "        target=5\n",
    "    elif(value<=-0.0015 and value>=-0.0025):\n",
    "        target=2\n",
    "    elif(value<-0.0025):\n",
    "        target=1\n",
    "    return target\n",
    "\n",
    "def correlation_heatmap(df):\n",
    "    correlations = df.corr()\n",
    "\n",
    "    fig, ax = plt.subplots(figsize=(40,40))\n",
    "    sns.heatmap(correlations, vmax=1.0, center=0, fmt='.2f',\n",
    "                square=True, linewidths=.1, annot=True, cbar_kws={\"shrink\": .7})\n",
    "    sns.set(font_scale=2)\n",
    "    plt.show();\n",
    "\n",
    "def aboveValue(openList,inspectList,df,name):\n",
    "    results=[]\n",
    "    for i in range(len(inspectList)):\n",
    "        if (openList[i]>inspectList[i]):\n",
    "            results.append(1)\n",
    "        else:\n",
    "            results.append(0)\n",
    "    df[name]=results\n",
    "    "
   ]
  },
  {
   "cell_type": "code",
   "execution_count": 26,
   "id": "ca16fec7",
   "metadata": {},
   "outputs": [],
   "source": [
    "data1 = pd.read_csv('/home/balazs/Desktop/adathalmazok/btc_2012-2021/btc_split_data_part_06', sep=\",\", header=None)\n",
    "data1.columns = [\"time\", \"open\", \"high\", \"low\",\"close\",\"volume\",'drop1','drop2']\n",
    "\n",
    "data2 = pd.read_csv('/home/balazs/Desktop/adathalmazok/btc_2012-2021/btc_split_data_part_07', sep=\",\", header=None)\n",
    "data2.columns = [\"time\", \"open\", \"high\", \"low\",\"close\",\"volume\",'drop1','drop2']\n",
    "\n",
    "data3 = pd.read_csv('/home/balazs/Desktop/adathalmazok/btc_2012-2021/btc_split_data_part_08', sep=\",\", header=None)\n",
    "data3.columns = [\"time\", \"open\", \"high\", \"low\",\"close\",\"volume\",'drop1','drop2']\n",
    "\n",
    "data4 = pd.read_csv('/home/balazs/Desktop/adathalmazok/btc_2012-2021/btc_split_data_part_09', sep=\",\", header=None)\n",
    "data4.columns = [\"time\", \"open\", \"high\", \"low\",\"close\",\"volume\"]\n",
    "\n",
    "data= pd.concat([data1,data2,data3,data4], axis=0)\n",
    "\n",
    "\n",
    "#data=data4"
   ]
  },
  {
   "cell_type": "code",
   "execution_count": 27,
   "id": "1cca37cc",
   "metadata": {},
   "outputs": [
    {
     "name": "stdout",
     "output_type": "stream",
     "text": [
      "CPU times: user 44.9 s, sys: 156 ms, total: 45.1 s\n",
      "Wall time: 45.2 s\n"
     ]
    }
   ],
   "source": [
    "%%time\n",
    "#btc_data = pd.read_csv(r\"/home/balazs/Desktop/szakdoga_info/btc_data.csv\")\n",
    "#data = btc_data.dropna()\n",
    "data['MA5']=data['open'].rolling(window =5).mean()\n",
    "data['EMA5']=data['open'].ewm(span=5,min_periods=0,adjust=False,ignore_na=False).mean()\n",
    "data['CMA']=data.open.expanding().mean()\n",
    "data['open_percentage_change']=data.open.pct_change()\n",
    "data['close_percentage_change']=data.close.pct_change()\n",
    "data['high_percentage_change']=data.high.pct_change()\n",
    "data['low_percentage_change']=data.low.pct_change()\n",
    "data['volume_percentage_change']=data.volume.pct_change()\n",
    "lista=[]\n",
    "for i in range(len(data.open_percentage_change.values)-5):\n",
    "        value=data.open_percentage_change.values[i+1]+data.open_percentage_change.values[i+2]+data.open_percentage_change.values[i+3]+data.open_percentage_change.values[i+4]+data.open_percentage_change.values[i+5]\n",
    "        lista.append(value)\n",
    "for i in range(5):\n",
    "    lista.append(0)\n",
    "data['profit']=lista\n",
    "buy_sell_list=[classificateWithNumbersThreeTarget(elem) for elem in data.profit]\n",
    "data['decision']=buy_sell_list"
   ]
  },
  {
   "cell_type": "code",
   "execution_count": 28,
   "id": "e96102cd",
   "metadata": {},
   "outputs": [],
   "source": [
    "data=data.dropna()"
   ]
  },
  {
   "cell_type": "code",
   "execution_count": 29,
   "id": "e86acedb",
   "metadata": {},
   "outputs": [],
   "source": [
    "data.drop(data.tail(5).index,inplace=True) # drop last n rows"
   ]
  },
  {
   "cell_type": "code",
   "execution_count": 30,
   "id": "f43ce502",
   "metadata": {},
   "outputs": [],
   "source": [
    "aboveValue(data.open.values,data.MA5.values,data,'aboveMA5')\n",
    "aboveValue(data.open.values,data.EMA5.values,data,'aboveEMA5')\n",
    "aboveValue(data.open.values,data.CMA.values,data,'aboveCMA')"
   ]
  },
  {
   "cell_type": "code",
   "execution_count": 31,
   "id": "3487bfdd",
   "metadata": {},
   "outputs": [],
   "source": [
    "X=data[['close_percentage_change','high_percentage_change','low_percentage_change']]\n",
    "y=data[['decision']]"
   ]
  },
  {
   "cell_type": "code",
   "execution_count": 32,
   "id": "9ee4d6c8",
   "metadata": {},
   "outputs": [],
   "source": [
    "from imblearn.over_sampling import SMOTE\n",
    "\n",
    "smote = SMOTE()\n",
    "X, y = smote.fit_resample(X, y)"
   ]
  },
  {
   "cell_type": "code",
   "execution_count": 33,
   "id": "35c347de",
   "metadata": {},
   "outputs": [],
   "source": [
    "from imblearn.under_sampling import TomekLinks\n",
    "TK = TomekLinks(sampling_strategy='majority')\n",
    "X, y = TK.fit_resample(X, y)"
   ]
  },
  {
   "cell_type": "code",
   "execution_count": 34,
   "id": "d92451b7",
   "metadata": {},
   "outputs": [],
   "source": [
    "from sklearn.model_selection import train_test_split\n",
    "X_train, X_test, y_train, y_test = train_test_split(X, y, test_size=0.3) # 70% training and 30% test"
   ]
  },
  {
   "cell_type": "code",
   "execution_count": 35,
   "id": "48d0bea6",
   "metadata": {},
   "outputs": [
    {
     "data": {
      "text/plain": [
       "1783122"
      ]
     },
     "execution_count": 35,
     "metadata": {},
     "output_type": "execute_result"
    }
   ],
   "source": [
    "len(X_train)"
   ]
  },
  {
   "cell_type": "code",
   "execution_count": 36,
   "id": "bb445b52",
   "metadata": {},
   "outputs": [],
   "source": [
    "# import Random Forest classifier\n",
    "\n",
    "from sklearn.ensemble import RandomForestClassifier\n",
    "\n",
    "\n",
    "\n",
    "# instantiate the classifier \n",
    "\n",
    "rfc = RandomForestClassifier(random_state=0)\n",
    "\n",
    "\n",
    "\n",
    "# fit the model\n",
    "\n",
    "rfc.fit(X_train, y_train)\n",
    "\n",
    "\n",
    "\n",
    "# Predict the Test set results\n",
    "\n",
    "y_pred = rfc.predict(X_test)\n"
   ]
  },
  {
   "cell_type": "code",
   "execution_count": 37,
   "id": "09391e1d",
   "metadata": {},
   "outputs": [
    {
     "name": "stdout",
     "output_type": "stream",
     "text": [
      "              precision    recall  f1-score   support\n",
      "\n",
      "          -1       0.77      0.46      0.57    240274\n",
      "           0       0.47      0.83      0.60    261716\n",
      "           1       0.76      0.46      0.57    262206\n",
      "\n",
      "    accuracy                           0.59    764196\n",
      "   macro avg       0.67      0.58      0.58    764196\n",
      "weighted avg       0.66      0.59      0.58    764196\n",
      "\n"
     ]
    }
   ],
   "source": [
    "from sklearn.metrics import classification_report\n",
    "classes = ['-1','0','1']\n",
    "print(classification_report(y_test, y_pred, target_names = classes, zero_division = 0))"
   ]
  },
  {
   "cell_type": "code",
   "execution_count": 42,
   "id": "80835823",
   "metadata": {},
   "outputs": [
    {
     "data": {
      "text/html": [
       "<div>\n",
       "<style scoped>\n",
       "    .dataframe tbody tr th:only-of-type {\n",
       "        vertical-align: middle;\n",
       "    }\n",
       "\n",
       "    .dataframe tbody tr th {\n",
       "        vertical-align: top;\n",
       "    }\n",
       "\n",
       "    .dataframe thead th {\n",
       "        text-align: right;\n",
       "    }\n",
       "</style>\n",
       "<table border=\"1\" class=\"dataframe\">\n",
       "  <thead>\n",
       "    <tr style=\"text-align: right;\">\n",
       "      <th></th>\n",
       "      <th>close_percentage_change</th>\n",
       "      <th>high_percentage_change</th>\n",
       "      <th>low_percentage_change</th>\n",
       "    </tr>\n",
       "  </thead>\n",
       "  <tbody>\n",
       "    <tr>\n",
       "      <th>103499</th>\n",
       "      <td>-0.000067</td>\n",
       "      <td>-3.035658e-03</td>\n",
       "      <td>-0.001271</td>\n",
       "    </tr>\n",
       "    <tr>\n",
       "      <th>1393635</th>\n",
       "      <td>-0.000760</td>\n",
       "      <td>7.775333e-07</td>\n",
       "      <td>0.000103</td>\n",
       "    </tr>\n",
       "    <tr>\n",
       "      <th>1574378</th>\n",
       "      <td>-0.001677</td>\n",
       "      <td>-2.345760e-04</td>\n",
       "      <td>0.000211</td>\n",
       "    </tr>\n",
       "    <tr>\n",
       "      <th>1233790</th>\n",
       "      <td>-0.001387</td>\n",
       "      <td>-2.307611e-04</td>\n",
       "      <td>-0.001171</td>\n",
       "    </tr>\n",
       "    <tr>\n",
       "      <th>1710690</th>\n",
       "      <td>-0.001347</td>\n",
       "      <td>1.399488e-03</td>\n",
       "      <td>0.001581</td>\n",
       "    </tr>\n",
       "    <tr>\n",
       "      <th>...</th>\n",
       "      <td>...</td>\n",
       "      <td>...</td>\n",
       "      <td>...</td>\n",
       "    </tr>\n",
       "    <tr>\n",
       "      <th>376861</th>\n",
       "      <td>0.001288</td>\n",
       "      <td>1.287650e-03</td>\n",
       "      <td>0.000811</td>\n",
       "    </tr>\n",
       "    <tr>\n",
       "      <th>777919</th>\n",
       "      <td>0.000427</td>\n",
       "      <td>5.351456e-04</td>\n",
       "      <td>0.000427</td>\n",
       "    </tr>\n",
       "    <tr>\n",
       "      <th>1025465</th>\n",
       "      <td>-0.000569</td>\n",
       "      <td>-2.298892e-04</td>\n",
       "      <td>-0.000151</td>\n",
       "    </tr>\n",
       "    <tr>\n",
       "      <th>1407225</th>\n",
       "      <td>-0.013070</td>\n",
       "      <td>-4.818818e-03</td>\n",
       "      <td>-0.012730</td>\n",
       "    </tr>\n",
       "    <tr>\n",
       "      <th>1673287</th>\n",
       "      <td>-0.000942</td>\n",
       "      <td>-1.160776e-06</td>\n",
       "      <td>-0.000083</td>\n",
       "    </tr>\n",
       "  </tbody>\n",
       "</table>\n",
       "<p>764196 rows × 3 columns</p>\n",
       "</div>"
      ],
      "text/plain": [
       "         close_percentage_change  high_percentage_change  \\\n",
       "103499                 -0.000067           -3.035658e-03   \n",
       "1393635                -0.000760            7.775333e-07   \n",
       "1574378                -0.001677           -2.345760e-04   \n",
       "1233790                -0.001387           -2.307611e-04   \n",
       "1710690                -0.001347            1.399488e-03   \n",
       "...                          ...                     ...   \n",
       "376861                  0.001288            1.287650e-03   \n",
       "777919                  0.000427            5.351456e-04   \n",
       "1025465                -0.000569           -2.298892e-04   \n",
       "1407225                -0.013070           -4.818818e-03   \n",
       "1673287                -0.000942           -1.160776e-06   \n",
       "\n",
       "         low_percentage_change  \n",
       "103499               -0.001271  \n",
       "1393635               0.000103  \n",
       "1574378               0.000211  \n",
       "1233790              -0.001171  \n",
       "1710690               0.001581  \n",
       "...                        ...  \n",
       "376861                0.000811  \n",
       "777919                0.000427  \n",
       "1025465              -0.000151  \n",
       "1407225              -0.012730  \n",
       "1673287              -0.000083  \n",
       "\n",
       "[764196 rows x 3 columns]"
      ]
     },
     "execution_count": 42,
     "metadata": {},
     "output_type": "execute_result"
    }
   ],
   "source": [
    "X_test"
   ]
  },
  {
   "cell_type": "code",
   "execution_count": 49,
   "id": "8cd2fddc",
   "metadata": {},
   "outputs": [
    {
     "name": "stdout",
     "output_type": "stream",
     "text": [
      "CPU times: user 2 µs, sys: 0 ns, total: 2 µs\n",
      "Wall time: 4.77 µs\n"
     ]
    },
    {
     "data": {
      "text/plain": [
       "array([0])"
      ]
     },
     "execution_count": 49,
     "metadata": {},
     "output_type": "execute_result"
    }
   ],
   "source": [
    "%time\n",
    "rfc.predict([[0.001,0.000\n",
    "              ,0.000]])"
   ]
  },
  {
   "cell_type": "code",
   "execution_count": 47,
   "id": "d9207749",
   "metadata": {},
   "outputs": [
    {
     "data": {
      "text/plain": [
       "['randomForest.joblib']"
      ]
     },
     "execution_count": 47,
     "metadata": {},
     "output_type": "execute_result"
    }
   ],
   "source": [
    "import joblib\n",
    "joblib.dump(rfc,'randomForest.joblib')"
   ]
  },
  {
   "cell_type": "code",
   "execution_count": null,
   "id": "6500c1d2",
   "metadata": {},
   "outputs": [],
   "source": []
  },
  {
   "cell_type": "code",
   "execution_count": null,
   "id": "e53661a8",
   "metadata": {},
   "outputs": [],
   "source": []
  }
 ],
 "metadata": {
  "kernelspec": {
   "display_name": "Python 3 (ipykernel)",
   "language": "python",
   "name": "python3"
  },
  "language_info": {
   "codemirror_mode": {
    "name": "ipython",
    "version": 3
   },
   "file_extension": ".py",
   "mimetype": "text/x-python",
   "name": "python",
   "nbconvert_exporter": "python",
   "pygments_lexer": "ipython3",
   "version": "3.8.10"
  }
 },
 "nbformat": 4,
 "nbformat_minor": 5
}
